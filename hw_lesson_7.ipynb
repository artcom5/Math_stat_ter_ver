{
 "cells": [
  {
   "cell_type": "markdown",
   "id": "90461e33-0eae-4564-973c-5fec603b9465",
   "metadata": {},
   "source": [
    "### Урок 7. Домашняя работа"
   ]
  },
  {
   "cell_type": "code",
   "execution_count": 1,
   "id": "60a260dc-26cf-4857-a7c3-54d7ef5bc290",
   "metadata": {},
   "outputs": [],
   "source": [
    "import numpy as np\n",
    "import matplotlib.pyplot as plt\n",
    "%matplotlib inline"
   ]
  },
  {
   "cell_type": "markdown",
   "id": "53fa649e-cb77-47de-bb8f-9012bdb0145c",
   "metadata": {},
   "source": [
    "1. Даны значения величины заработной платы заемщиков банка (zp) и значения их поведенческого кредитного скоринга (ks): zp = [35, 45, 190, 200, 40, 70, 54, 150, 120, 110], ks = [401, 574, 874, 919, 459, 739, 653, 902, 746, 832]. Используя математические операции, посчитать коэффициенты линейной регрессии, приняв за X заработную плату (то есть, zp - признак), а за y - значения скорингового балла (то есть, ks - целевая переменная). Произвести расчет как с использованием intercept, так и без."
   ]
  },
  {
   "cell_type": "code",
   "execution_count": 2,
   "id": "a6bfbf3c-7f56-4c3d-a4e3-10eb4d5db2f2",
   "metadata": {},
   "outputs": [
    {
     "data": {
      "text/plain": [
       "array([ 35,  45, 190, 200,  40,  70,  54, 150, 120, 110])"
      ]
     },
     "execution_count": 2,
     "metadata": {},
     "output_type": "execute_result"
    }
   ],
   "source": [
    "X = np.array([35, 45, 190, 200, 40, 70, 54, 150, 120, 110])\n",
    "X"
   ]
  },
  {
   "cell_type": "code",
   "execution_count": 3,
   "id": "21773f4c-c083-4cfe-b66a-2323f43674ef",
   "metadata": {},
   "outputs": [
    {
     "data": {
      "text/plain": [
       "array([401, 574, 874, 919, 459, 739, 653, 902, 746, 832])"
      ]
     },
     "execution_count": 3,
     "metadata": {},
     "output_type": "execute_result"
    }
   ],
   "source": [
    "y = np.array([401, 574, 874, 919, 459, 739, 653, 902, 746, 832])\n",
    "y"
   ]
  },
  {
   "cell_type": "code",
   "execution_count": 4,
   "id": "5b233f19-43f9-456e-82db-02dc3f7ee472",
   "metadata": {},
   "outputs": [
    {
     "data": {
      "image/png": "[encoded data removed]",
      "text/plain": [
       "<Figure size 432x288 with 1 Axes>"
      ]
     },
     "metadata": {
      "needs_background": "light"
     },
     "output_type": "display_data"
    }
   ],
   "source": [
    "plt.scatter(X, y)\n",
    "plt.show()"
   ]
  },
  {
   "cell_type": "code",
   "execution_count": 5,
   "id": "5932450b-6b4e-4b31-84b4-f4757cb2f831",
   "metadata": {},
   "outputs": [
    {
     "data": {
      "text/plain": [
       "array([[ 35],\n",
       "       [ 45],\n",
       "       [190],\n",
       "       [200],\n",
       "       [ 40],\n",
       "       [ 70],\n",
       "       [ 54],\n",
       "       [150],\n",
       "       [120],\n",
       "       [110]])"
      ]
     },
     "execution_count": 5,
     "metadata": {},
     "output_type": "execute_result"
    }
   ],
   "source": [
    "X = X.reshape(len(X), 1)\n",
    "X"
   ]
  },
  {
   "cell_type": "code",
   "execution_count": 13,
   "id": "e5a6606b-1404-46fa-812d-eb68fb904da8",
   "metadata": {},
   "outputs": [
    {
     "data": {
      "text/plain": [
       "array([[401],\n",
       "       [574],\n",
       "       [874],\n",
       "       [919],\n",
       "       [459],\n",
       "       [739],\n",
       "       [653],\n",
       "       [902],\n",
       "       [746],\n",
       "       [832]])"
      ]
     },
     "execution_count": 13,
     "metadata": {},
     "output_type": "execute_result"
    }
   ],
   "source": [
    "y = y.reshape(len(y), 1)\n",
    "y"
   ]
  },
  {
   "cell_type": "markdown",
   "id": "15eaad1b-09a3-4699-a0fe-69384342b732",
   "metadata": {},
   "source": [
    "* *Расчет с использованием intercept*"
   ]
  },
  {
   "cell_type": "code",
   "execution_count": 9,
   "id": "d28ce6f4-ab6c-49df-b91b-f7fb5022aebd",
   "metadata": {},
   "outputs": [
    {
     "data": {
      "text/plain": [
       "array([[  1.,  35.],\n",
       "       [  1.,  45.],\n",
       "       [  1., 190.],\n",
       "       [  1., 200.],\n",
       "       [  1.,  40.],\n",
       "       [  1.,  70.],\n",
       "       [  1.,  54.],\n",
       "       [  1., 150.],\n",
       "       [  1., 120.],\n",
       "       [  1., 110.]])"
      ]
     },
     "execution_count": 9,
     "metadata": {},
     "output_type": "execute_result"
    }
   ],
   "source": [
    "X_intercept = np.hstack([np.ones((len(X), 1)), X])\n",
    "X_intercept"
   ]
  },
  {
   "cell_type": "code",
   "execution_count": 16,
   "id": "e4e933b0-4f1e-4e7d-b681-84d8f1471d05",
   "metadata": {},
   "outputs": [
    {
     "data": {
      "text/plain": [
       "array([[444.17735732],\n",
       "       [  2.62053888]])"
      ]
     },
     "execution_count": 16,
     "metadata": {},
     "output_type": "execute_result"
    }
   ],
   "source": [
    "B0_B1 = np.dot(np.linalg.inv(np.dot(X_intercept.T, X_intercept)), X_intercept.T@y)\n",
    "B0_B1"
   ]
  },
  {
   "cell_type": "code",
   "execution_count": 18,
   "id": "8992f131-e29c-439d-9b56-9e35da215981",
   "metadata": {},
   "outputs": [],
   "source": [
    "y_hat = B0_B1[0] + B0_B1[1] * X"
   ]
  },
  {
   "cell_type": "code",
   "execution_count": 29,
   "id": "d7494796-f01f-409c-b9e3-bceb7577c4f6",
   "metadata": {},
   "outputs": [
    {
     "data": {
      "image/png": "[encoded data removed]",
      "text/plain": [
       "<Figure size 432x288 with 1 Axes>"
      ]
     },
     "metadata": {
      "needs_background": "light"
     },
     "output_type": "display_data"
    }
   ],
   "source": [
    "plt.scatter(X, y, color='red')\n",
    "plt.plot(X, np.array(y_hat), color='green')\n",
    "plt.show()"
   ]
  },
  {
   "cell_type": "markdown",
   "id": "e7453c50-a335-4855-889b-794f8a59c7b1",
   "metadata": {},
   "source": [
    "* *Расчет без intercept*"
   ]
  },
  {
   "cell_type": "code",
   "execution_count": 21,
   "id": "5652b5ab-b2dd-47cc-ba08-1c9ac45a5c31",
   "metadata": {},
   "outputs": [
    {
     "data": {
      "text/plain": [
       "array([[5.88982042]])"
      ]
     },
     "execution_count": 21,
     "metadata": {},
     "output_type": "execute_result"
    }
   ],
   "source": [
    "B1 = np.dot(np.linalg.inv(np.dot(X.T, X)), X.T@y)\n",
    "B1"
   ]
  },
  {
   "cell_type": "code",
   "execution_count": 22,
   "id": "76efa2ed-8ff3-4bea-a03c-f7d0e203695c",
   "metadata": {},
   "outputs": [],
   "source": [
    "y_hat_B1 = B1[0] * X"
   ]
  },
  {
   "cell_type": "code",
   "execution_count": 23,
   "id": "e6f06367-0073-490c-84ec-1f3d539f691c",
   "metadata": {},
   "outputs": [
    {
     "data": {
      "image/png": "[encoded data removed]",
      "text/plain": [
       "<Figure size 432x288 with 1 Axes>"
      ]
     },
     "metadata": {
      "needs_background": "light"
     },
     "output_type": "display_data"
    }
   ],
   "source": [
    "plt.scatter(X, y, color='red')\n",
    "plt.plot(X, np.array(y_hat_B1), color='green')\n",
    "plt.show()"
   ]
  },
  {
   "cell_type": "markdown",
   "id": "46be936e-3356-471a-807a-19f5f7d1c245",
   "metadata": {},
   "source": [
    "2. В каких случаях для вычисления доверительных интервалов и проверки статистических гипотез используется таблица значений функции Лапласа, а в каких - таблица критических точек распределения Стьюдента?"
   ]
  },
  {
   "cell_type": "markdown",
   "id": "155bb8aa-60bd-4086-906d-8f24cc796369",
   "metadata": {},
   "source": [
    "Таблицу критических точек распределения Стьюдента применяем в том случае, если нам нейзвестна сигма т.е. среднее квадратическое отклонение генеральной совокупности."
   ]
  },
  {
   "cell_type": "code",
   "execution_count": null,
   "id": "735a0212-185f-41b7-976d-01f2b0e85f9f",
   "metadata": {},
   "outputs": [],
   "source": []
  }
 ],
 "metadata": {
  "kernelspec": {
   "display_name": "Python 3 (ipykernel)",
   "language": "python",
   "name": "python3"
  },
  "language_info": {
   "codemirror_mode": {
    "name": "ipython",
    "version": 3
   },
   "file_extension": ".py",
   "mimetype": "text/x-python",
   "name": "python",
   "nbconvert_exporter": "python",
   "pygments_lexer": "ipython3",
   "version": "3.9.12"
  }
 },
 "nbformat": 4,
 "nbformat_minor": 5
}
