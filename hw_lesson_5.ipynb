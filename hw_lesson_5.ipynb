{
 "cells": [
  {
   "cell_type": "markdown",
   "id": "b826c1a0-653b-45c4-96dd-2359ae442444",
   "metadata": {},
   "source": [
    "### Урок 5. Домашняя работа"
   ]
  },
  {
   "cell_type": "code",
   "execution_count": 1,
   "id": "bf99cc32-05ee-4e8c-b9f9-98e38d002483",
   "metadata": {},
   "outputs": [],
   "source": [
    "import numpy as np\n",
    "from math import sqrt"
   ]
  },
  {
   "cell_type": "markdown",
   "id": "d67b0407-01ca-4b46-84cc-9060a8639595",
   "metadata": {},
   "source": [
    "1. Известно, что генеральная совокупность распределена нормально\n",
    "со средним квадратическим отклонением, равным 16.\n",
    "Найти доверительный интервал для оценки математического ожидания a с надежностью 0.95,\n",
    "если выборочная средняя M = 80, а объем выборки n = 256."
   ]
  },
  {
   "cell_type": "code",
   "execution_count": 2,
   "id": "f8866722-1a93-4e2b-9cb2-6e000ccb54ee",
   "metadata": {},
   "outputs": [],
   "source": [
    "X = 80\n",
    "sigma = 16\n",
    "n = 256\n",
    "Z_a2 = 1.96"
   ]
  },
  {
   "cell_type": "code",
   "execution_count": 3,
   "id": "5ba43569-701c-4500-bd25-37461a54199b",
   "metadata": {},
   "outputs": [],
   "source": [
    "X1 = X + Z_a2 * sigma/sqrt(n)\n",
    "X2 = X - Z_a2 * sigma/sqrt(n)"
   ]
  },
  {
   "cell_type": "code",
   "execution_count": 4,
   "id": "ff6724a3-ecf0-4501-90fb-b1b15ad44abe",
   "metadata": {},
   "outputs": [
    {
     "name": "stdout",
     "output_type": "stream",
     "text": [
      "[78.04, 81.96]\n"
     ]
    }
   ],
   "source": [
    "print([X2, X1])"
   ]
  },
  {
   "cell_type": "markdown",
   "id": "c7da83ad-3289-45b0-b319-831e9b36a579",
   "metadata": {},
   "source": [
    "2. В результате 10 независимых измерений некоторой величины X, выполненных с одинаковой точностью,\n",
    "получены опытные данные:\n",
    "6.9, 6.1, 6.2, 6.8, 7.5, 6.3, 6.4, 6.9, 6.7, 6.1\n",
    "Предполагая, что результаты измерений подчинены нормальному закону распределения вероятностей,\n",
    "оценить истинное значение величины X при помощи доверительного интервала, покрывающего это\n",
    "значение с доверительной вероятностью 0,95."
   ]
  },
  {
   "cell_type": "code",
   "execution_count": 5,
   "id": "1dc40ea6-b20e-4d2c-b2f0-505acf077d1b",
   "metadata": {},
   "outputs": [
    {
     "data": {
      "text/plain": [
       "array([6.9, 6.1, 6.2, 6.8, 7.5, 6.3, 6.4, 6.9, 6.7, 6.1])"
      ]
     },
     "execution_count": 5,
     "metadata": {},
     "output_type": "execute_result"
    }
   ],
   "source": [
    "dim = np.array([6.9, 6.1, 6.2, 6.8, 7.5, 6.3, 6.4, 6.9, 6.7, 6.1])\n",
    "dim"
   ]
  },
  {
   "cell_type": "code",
   "execution_count": 6,
   "id": "dfa1e39a-fc00-425e-9c61-0557237b515e",
   "metadata": {},
   "outputs": [
    {
     "data": {
      "text/plain": [
       "0.4508017549014448"
      ]
     },
     "execution_count": 6,
     "metadata": {},
     "output_type": "execute_result"
    }
   ],
   "source": [
    "sigma = np.std(dim, ddof=1)\n",
    "sigma"
   ]
  },
  {
   "cell_type": "code",
   "execution_count": 7,
   "id": "75f5f0bc-1995-4ced-a50d-a3951f871ef7",
   "metadata": {},
   "outputs": [
    {
     "data": {
      "text/plain": [
       "6.590000000000001"
      ]
     },
     "execution_count": 7,
     "metadata": {},
     "output_type": "execute_result"
    }
   ],
   "source": [
    "X = np.mean(dim)\n",
    "X"
   ]
  },
  {
   "cell_type": "code",
   "execution_count": 8,
   "id": "483e5266-fb0e-4e6b-8523-d5a8c2badefb",
   "metadata": {},
   "outputs": [],
   "source": [
    "n = 10\n",
    "t_a2 = 2.262"
   ]
  },
  {
   "cell_type": "code",
   "execution_count": 9,
   "id": "d08de4a3-a95a-4367-8823-e9cb6223695e",
   "metadata": {},
   "outputs": [],
   "source": [
    "X1 = X + t_a2 * sigma/sqrt(n)\n",
    "X2 = X - t_a2 * sigma/sqrt(n)"
   ]
  },
  {
   "cell_type": "code",
   "execution_count": 10,
   "id": "250ff896-7839-4119-8e31-6332338b6074",
   "metadata": {},
   "outputs": [
    {
     "name": "stdout",
     "output_type": "stream",
     "text": [
      "[6.267538255912426, 6.912461744087575]\n"
     ]
    }
   ],
   "source": [
    "print([X2, X1])"
   ]
  },
  {
   "cell_type": "markdown",
   "id": "1f50980f-b85d-42fe-bc7d-98a8c693432b",
   "metadata": {},
   "source": [
    "3. Утверждается, что шарики для подшипников, изготовленные автоматическим станком, имеют средний диаметр 17 мм.\n",
    "Используя односторонний критерий с α=0,05, проверить эту гипотезу, если в выборке из n=100 шариков средний диаметр\n",
    "оказался равным 17.5 мм, а дисперсия известна и равна 4 мм."
   ]
  },
  {
   "cell_type": "code",
   "execution_count": 11,
   "id": "244ba6ff-2d49-488f-aa53-7fba7c47f71d",
   "metadata": {},
   "outputs": [],
   "source": [
    "M0 = 17\n",
    "M = 17.5\n",
    "sigma = 2\n",
    "n = 100\n",
    "alpha = 0.05\n",
    "Z = 1.96 # Находим по таблице накопленного нормального распредделения"
   ]
  },
  {
   "cell_type": "markdown",
   "id": "19b78248-103a-4b36-811d-a0ed09f26ded",
   "metadata": {},
   "source": [
    "* *H0: M = M0*\n",
    "* *H1: M > M0*"
   ]
  },
  {
   "cell_type": "code",
   "execution_count": 12,
   "id": "0f2ebb9f-90d9-4698-82a8-093b1ac60b67",
   "metadata": {},
   "outputs": [
    {
     "data": {
      "text/plain": [
       "2.5"
      ]
     },
     "execution_count": 12,
     "metadata": {},
     "output_type": "execute_result"
    }
   ],
   "source": [
    "Zн = (M - M0) / (sigma / sqrt(n))\n",
    "Zн"
   ]
  },
  {
   "cell_type": "markdown",
   "id": "96d94d50-3761-4d90-b8ee-678be0b4650e",
   "metadata": {},
   "source": [
    "Так как 2.5 > 1.65 мы попадаем в область H1, соответственно верна альтернативная гипотеза"
   ]
  },
  {
   "cell_type": "markdown",
   "id": "3aaad752-5b4e-477e-a96c-121db60ea22d",
   "metadata": {},
   "source": [
    "4. Продавец утверждает, что средний вес пачки печенья составляет 200 г.\n",
    "Из партии извлечена выборка из 10 пачек. Вес каждой пачки составляет:\n",
    "202, 203, 199, 197, 195, 201, 200, 204, 194, 190.\n",
    "Известно, что их веса распределены нормально.\n",
    "Верно ли утверждение продавца, если учитывать, что доверительная вероятность равна 99%?"
   ]
  },
  {
   "cell_type": "code",
   "execution_count": 13,
   "id": "559ade6d-f2f5-4cd8-96a6-816e9c3ce510",
   "metadata": {},
   "outputs": [
    {
     "data": {
      "text/plain": [
       "array([202, 203, 199, 197, 195, 201, 200, 204, 194, 190])"
      ]
     },
     "execution_count": 13,
     "metadata": {},
     "output_type": "execute_result"
    }
   ],
   "source": [
    "weight = np.array([202, 203, 199, 197, 195, 201, 200, 204, 194, 190])\n",
    "weight"
   ]
  },
  {
   "cell_type": "code",
   "execution_count": 14,
   "id": "52b83456-ac62-43c6-bff1-5d4b5f217906",
   "metadata": {},
   "outputs": [
    {
     "data": {
      "text/plain": [
       "198.5"
      ]
     },
     "execution_count": 14,
     "metadata": {},
     "output_type": "execute_result"
    }
   ],
   "source": [
    "M = weight.mean()\n",
    "M"
   ]
  },
  {
   "cell_type": "markdown",
   "id": "4c1cb773-c7c8-439c-9ea1-60eb1f2b2e2c",
   "metadata": {},
   "source": [
    "* *H0: M = M0*\n",
    "* *H1: M != M0*"
   ]
  },
  {
   "cell_type": "markdown",
   "id": "d31f3688-84da-45ad-90fc-164103cf1e1a",
   "metadata": {},
   "source": [
    "Так как сигма неизвестна тестировать будем по Стьюденту"
   ]
  },
  {
   "cell_type": "code",
   "execution_count": 15,
   "id": "461f5937-fd01-4850-bbce-d78e5db048cb",
   "metadata": {},
   "outputs": [],
   "source": [
    "M0 = 200\n",
    "n = 10\n",
    "alpha = 0.005\n",
    "T_t1 = - 3.25 # по алфа находим значение в таблице\n",
    "T_t2 = 3.25"
   ]
  },
  {
   "cell_type": "code",
   "execution_count": 16,
   "id": "c737ca7c-9255-44fe-aa7f-2edab630e555",
   "metadata": {},
   "outputs": [
    {
     "data": {
      "text/plain": [
       "4.453463071962462"
      ]
     },
     "execution_count": 16,
     "metadata": {},
     "output_type": "execute_result"
    }
   ],
   "source": [
    "sigma_n = np.std(weight, ddof=1)\n",
    "sigma_n"
   ]
  },
  {
   "cell_type": "code",
   "execution_count": 17,
   "id": "4b54f321-c408-4806-84c0-4404c6d284e4",
   "metadata": {},
   "outputs": [
    {
     "data": {
      "text/plain": [
       "-1.0651074037450896"
      ]
     },
     "execution_count": 17,
     "metadata": {},
     "output_type": "execute_result"
    }
   ],
   "source": [
    "T = (M - M0) / (sigma_n / sqrt(n))\n",
    "T"
   ]
  },
  {
   "cell_type": "markdown",
   "id": "66b18b3e-1db6-486d-aa1a-64066ee4fde5",
   "metadata": {},
   "source": [
    "Так как -1.065 > - 3.25 значение находится в области H0, соответственно верна H0 гипотеза"
   ]
  }
 ],
 "metadata": {
  "kernelspec": {
   "display_name": "Python 3 (ipykernel)",
   "language": "python",
   "name": "python3"
  },
  "language_info": {
   "codemirror_mode": {
    "name": "ipython",
    "version": 3
   },
   "file_extension": ".py",
   "mimetype": "text/x-python",
   "name": "python",
   "nbconvert_exporter": "python",
   "pygments_lexer": "ipython3",
   "version": "3.9.12"
  }
 },
 "nbformat": 4,
 "nbformat_minor": 5
}
