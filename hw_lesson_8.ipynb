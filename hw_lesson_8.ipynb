{
 "cells": [
  {
   "cell_type": "markdown",
   "id": "71d67b45-a9cf-4c51-b8b6-872356a76bb6",
   "metadata": {},
   "source": [
    "### Урок 8. Домашняя работа"
   ]
  },
  {
   "cell_type": "markdown",
   "id": "689d7177-d5e7-48c2-9b43-4f642bcd8a97",
   "metadata": {},
   "source": [
    "1. Провести дисперсионный анализ для определения того, есть ли различия среднего роста среди взрослых футболистов, хоккеистов и штангистов. Даны значения роста в трех группах случайно выбранных спортсменов: Футболисты: 173, 175, 180, 178, 177, 185, 183, 182. Хоккеисты: 177, 179, 180, 188, 177, 172, 171, 184, 180. Штангисты: 172, 173, 169, 177, 166, 180, 178, 177, 172, 166, 170. alpha = 0.05."
   ]
  },
  {
   "cell_type": "code",
   "execution_count": 1,
   "id": "449e826b-1101-4c22-837c-d09b3bde4ac2",
   "metadata": {},
   "outputs": [],
   "source": [
    "import numpy as np\n",
    "from scipy import stats"
   ]
  },
  {
   "cell_type": "code",
   "execution_count": 2,
   "id": "bef7ccac-2006-43e1-bab2-017de7607042",
   "metadata": {},
   "outputs": [
    {
     "data": {
      "text/plain": [
       "array([173, 175, 180, 178, 177, 185, 183, 182])"
      ]
     },
     "execution_count": 2,
     "metadata": {},
     "output_type": "execute_result"
    }
   ],
   "source": [
    "football_players = np.array([173, 175, 180, 178, 177, 185, 183, 182])\n",
    "football_players"
   ]
  },
  {
   "cell_type": "code",
   "execution_count": 3,
   "id": "f700f0a6-e06a-4341-b822-aee1d03988ee",
   "metadata": {},
   "outputs": [
    {
     "data": {
      "text/plain": [
       "array([177, 179, 180, 188, 177, 172, 171, 184, 180])"
      ]
     },
     "execution_count": 3,
     "metadata": {},
     "output_type": "execute_result"
    }
   ],
   "source": [
    "hockey_players = np.array([177, 179, 180, 188, 177, 172, 171, 184, 180])\n",
    "hockey_players"
   ]
  },
  {
   "cell_type": "code",
   "execution_count": 11,
   "id": "ba5deb0d-dadd-4329-a8ab-57c7aa3d1598",
   "metadata": {},
   "outputs": [
    {
     "data": {
      "text/plain": [
       "array([172, 173, 169, 177, 166, 180, 178, 177, 172, 166, 170])"
      ]
     },
     "execution_count": 11,
     "metadata": {},
     "output_type": "execute_result"
    }
   ],
   "source": [
    "weightlifters = np.array([172, 173, 169, 177, 166, 180, 178, 177, 172, 166, 170])\n",
    "weightlifters"
   ]
  },
  {
   "cell_type": "markdown",
   "id": "e18fa09c-59a5-421f-9f4a-113324ae7661",
   "metadata": {},
   "source": [
    "Найдём Fнаблюд."
   ]
  },
  {
   "cell_type": "code",
   "execution_count": 10,
   "id": "1fd0b35f-921b-446e-ab72-2958a070c084",
   "metadata": {},
   "outputs": [
    {
     "data": {
      "text/plain": [
       "F_onewayResult(statistic=5.500053450812596, pvalue=0.010482206918698694)"
      ]
     },
     "execution_count": 10,
     "metadata": {},
     "output_type": "execute_result"
    }
   ],
   "source": [
    "stats.f_oneway(football_players, hockey_players, weightlifters)"
   ]
  },
  {
   "cell_type": "markdown",
   "id": "61eef082-c144-4e37-9a0e-15ab45693d31",
   "metadata": {},
   "source": [
    "Найдём Fкритич."
   ]
  },
  {
   "cell_type": "code",
   "execution_count": 8,
   "id": "2541c38b-4141-464e-9370-bae8b86c56bf",
   "metadata": {},
   "outputs": [
    {
     "data": {
      "text/plain": [
       "28"
      ]
     },
     "execution_count": 8,
     "metadata": {},
     "output_type": "execute_result"
    }
   ],
   "source": [
    "n = len(football_players) + len(hockey_players) + len(weightlifters)\n",
    "n"
   ]
  },
  {
   "cell_type": "code",
   "execution_count": 9,
   "id": "581ee098-0b9b-4e27-8d01-3ebb96e3056d",
   "metadata": {},
   "outputs": [
    {
     "data": {
      "text/plain": [
       "3.340385558237759"
      ]
     },
     "execution_count": 9,
     "metadata": {},
     "output_type": "execute_result"
    }
   ],
   "source": [
    "stats.f.ppf(0.95, 2, n)"
   ]
  },
  {
   "cell_type": "markdown",
   "id": "8ebfa9e1-33d7-4695-a128-34b75591ca72",
   "metadata": {},
   "source": [
    "Вывод: Так как Fнаблюд > Fкрит мы попадаем в область гипотезы Н1 соответственно, есть статистически значимые различия среднего роста между cпортсменами"
   ]
  },
  {
   "cell_type": "code",
   "execution_count": null,
   "id": "30899c99-87ce-4467-9a87-37414714f9fb",
   "metadata": {},
   "outputs": [],
   "source": []
  }
 ],
 "metadata": {
  "kernelspec": {
   "display_name": "Python 3 (ipykernel)",
   "language": "python",
   "name": "python3"
  },
  "language_info": {
   "codemirror_mode": {
    "name": "ipython",
    "version": 3
   },
   "file_extension": ".py",
   "mimetype": "text/x-python",
   "name": "python",
   "nbconvert_exporter": "python",
   "pygments_lexer": "ipython3",
   "version": "3.9.12"
  }
 },
 "nbformat": 4,
 "nbformat_minor": 5
}
