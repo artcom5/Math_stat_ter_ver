{
 "cells": [
  {
   "cell_type": "code",
   "execution_count": 1,
   "id": "f33e30f1-f4b2-4136-aee6-9fd5fe60396a",
   "metadata": {
    "tags": []
   },
   "outputs": [],
   "source": [
    "from math import factorial"
   ]
  },
  {
   "cell_type": "markdown",
   "id": "b46567f4-49bb-42bf-802d-bedddc0cf12a",
   "metadata": {
    "tags": []
   },
   "source": [
    "### Урок 1. Домашняя работа"
   ]
  },
  {
   "cell_type": "markdown",
   "id": "c6ffb527-fc95-4f06-9723-167373e9b91e",
   "metadata": {},
   "source": [
    "1. Из колоды в 52 карты извлекаются случайным образом 4 карты. a) Найти вероятность того, что все карты – крести. б) Найти вероятность, что среди 4-х карт окажется хотя бы один туз."
   ]
  },
  {
   "cell_type": "markdown",
   "id": "78d83c98-6237-40ad-b982-667dd22be3a0",
   "metadata": {},
   "source": [
    "* *a) Найти вероятность того, что все карты – крести.*"
   ]
  },
  {
   "cell_type": "markdown",
   "id": "32d8263f-492b-4798-93d3-8bb5508684cc",
   "metadata": {},
   "source": [
    "Так как колода из 52 карт, то каждой масти в ней по 13 карт соответственно 2, 3, 4, 5, 6, 7, 8, 9, 10, В, Д, К, Т"
   ]
  },
  {
   "cell_type": "markdown",
   "id": "edcee609-b0df-40c0-b0f7-dd55fd85dd33",
   "metadata": {},
   "source": [
    "Возьмём подмножество крести и найдём все возможные комбинации, так как нам порядок не важен, то применим формулу сочетания\n",
    "$$C^k_n = \\frac{n!}{k!(n-k)!}$$"
   ]
  },
  {
   "cell_type": "code",
   "execution_count": 2,
   "id": "8f8da634-dd25-4ebe-a0c7-fd3a2d2f9ef4",
   "metadata": {},
   "outputs": [],
   "source": [
    "def combination(n, k):\n",
    "    return int(factorial(n) / (factorial(k) * factorial(n-k)))"
   ]
  },
  {
   "cell_type": "code",
   "execution_count": 3,
   "id": "f94935f7-6ad2-4480-8aeb-e1994758f2ec",
   "metadata": {},
   "outputs": [],
   "source": [
    "n1 = 13\n",
    "k1 = 4"
   ]
  },
  {
   "cell_type": "code",
   "execution_count": 4,
   "id": "e9d4bc4b-ca78-4fdc-a016-7875dc6a825d",
   "metadata": {},
   "outputs": [
    {
     "data": {
      "text/plain": [
       "715"
      ]
     },
     "execution_count": 4,
     "metadata": {},
     "output_type": "execute_result"
    }
   ],
   "source": [
    "C1 = combination(n1, k1)\n",
    "C1"
   ]
  },
  {
   "cell_type": "markdown",
   "id": "3be81b28-6bd6-4157-9861-fb6b39f5baf0",
   "metadata": {},
   "source": [
    "Так как в условии найти только крести, то найдём общее число исходов"
   ]
  },
  {
   "cell_type": "code",
   "execution_count": 5,
   "id": "7a0e1c23-8ce9-4e0f-96ef-88fd1dafccce",
   "metadata": {},
   "outputs": [
    {
     "data": {
      "text/plain": [
       "270725"
      ]
     },
     "execution_count": 5,
     "metadata": {},
     "output_type": "execute_result"
    }
   ],
   "source": [
    "n2 = 52\n",
    "k2 = 4\n",
    "C2 = combination(n2, k2)\n",
    "C2"
   ]
  },
  {
   "cell_type": "markdown",
   "id": "c78e060c-6297-430b-92cd-9e05139c1a66",
   "metadata": {},
   "source": [
    "Найдём вероятность P = m - благоприятных исходов / n - общее число исходов"
   ]
  },
  {
   "cell_type": "code",
   "execution_count": 6,
   "id": "1ada4e51-d8b9-40ab-afe6-0b3ae7ea99c5",
   "metadata": {},
   "outputs": [
    {
     "name": "stdout",
     "output_type": "stream",
     "text": [
      "Вероятность 0.26%\n"
     ]
    }
   ],
   "source": [
    "P = C1 / C2\n",
    "print(f'Вероятность {round(P * 100, 2)}%')"
   ]
  },
  {
   "cell_type": "markdown",
   "id": "955fb2e1-9f18-4d3b-9dde-3de860d1a910",
   "metadata": {},
   "source": [
    "* *б) Найти вероятность, что среди 4-х карт окажется хотя бы один туз.*"
   ]
  },
  {
   "cell_type": "markdown",
   "id": "52210c16-bb35-421f-8355-191466d8e412",
   "metadata": {},
   "source": [
    "Возьмем подмножество тузов и найдём все возможные сочетание, так же порядок нам не важен"
   ]
  },
  {
   "cell_type": "code",
   "execution_count": 7,
   "id": "43286a83-d351-4d9f-bfca-896ce13eb35c",
   "metadata": {},
   "outputs": [
    {
     "data": {
      "text/plain": [
       "4"
      ]
     },
     "execution_count": 7,
     "metadata": {},
     "output_type": "execute_result"
    }
   ],
   "source": [
    "n3 = 4\n",
    "k3 = 1\n",
    "C3 = combination(n3, k3)\n",
    "C3"
   ]
  },
  {
   "cell_type": "markdown",
   "id": "a7fa5ef5-4eeb-49cb-8ad7-26d27eab7dcd",
   "metadata": {},
   "source": [
    "Возьмем подмножество не тузов (3 оставшиеся карты, но уже из 48 карт) и найдём все возможные сочетание, так же порядок нам не важен"
   ]
  },
  {
   "cell_type": "code",
   "execution_count": 8,
   "id": "f6ad9694-8a5c-43bc-9eb7-371bafab2e26",
   "metadata": {},
   "outputs": [
    {
     "data": {
      "text/plain": [
       "17296"
      ]
     },
     "execution_count": 8,
     "metadata": {},
     "output_type": "execute_result"
    }
   ],
   "source": [
    "n4 = 48\n",
    "k4 = 3\n",
    "C4 = combination(n4, k4)\n",
    "C4"
   ]
  },
  {
   "cell_type": "markdown",
   "id": "3ce7e1cc-4b81-4854-aa42-e67f187f3067",
   "metadata": {},
   "source": [
    "Найдём каждое сочетание туза с сочетанием не тузов"
   ]
  },
  {
   "cell_type": "code",
   "execution_count": 9,
   "id": "b1c970f8-a47b-4192-b295-5acae345d907",
   "metadata": {},
   "outputs": [
    {
     "data": {
      "text/plain": [
       "69184"
      ]
     },
     "execution_count": 9,
     "metadata": {},
     "output_type": "execute_result"
    }
   ],
   "source": [
    "C_total = C3 * C4\n",
    "C_total"
   ]
  },
  {
   "cell_type": "markdown",
   "id": "f5913997-420f-49be-bca5-f81dab473469",
   "metadata": {},
   "source": [
    "Найдём общее число исходов"
   ]
  },
  {
   "cell_type": "code",
   "execution_count": 10,
   "id": "136fd7a0-e001-45a0-8385-2fea502b2149",
   "metadata": {},
   "outputs": [
    {
     "data": {
      "text/plain": [
       "270725"
      ]
     },
     "execution_count": 10,
     "metadata": {},
     "output_type": "execute_result"
    }
   ],
   "source": [
    "n5 = 52\n",
    "k5 = 4\n",
    "C5 = combination(n5, k5)\n",
    "C5"
   ]
  },
  {
   "cell_type": "markdown",
   "id": "4cb96017-d1f8-459c-b22c-556c50228567",
   "metadata": {},
   "source": [
    "Найдём вероятность P = m - благоприятных исходов / n - общее число исходов"
   ]
  },
  {
   "cell_type": "code",
   "execution_count": 11,
   "id": "20423435-ec44-4dcb-b7ea-131ab85fcdf2",
   "metadata": {},
   "outputs": [
    {
     "name": "stdout",
     "output_type": "stream",
     "text": [
      "Вероятность 25.56%\n"
     ]
    }
   ],
   "source": [
    "P = C_total / C5\n",
    "print(f'Вероятность {round(P * 100, 2)}%')"
   ]
  },
  {
   "cell_type": "markdown",
   "id": "295a7bc1-2ec4-45a0-a4df-37bece2c8231",
   "metadata": {},
   "source": [
    "2. На входной двери подъезда установлен кодовый замок, содержащий десять кнопок с цифрами от 0 до 9. Код содержит три цифры, которые нужно нажать одновременно. Какова вероятность того, что человек, не знающий код, откроет дверь с первой попытки?"
   ]
  },
  {
   "cell_type": "markdown",
   "id": "cfcedcd7-c63a-4d65-b88e-7c0581055343",
   "metadata": {},
   "source": [
    "Дано 10 цифр, найдём количество комбинаций по 3 цифры, порядок не важен $$C^k_n = \\frac{n!}{k!(n-k)!}$$"
   ]
  },
  {
   "cell_type": "code",
   "execution_count": 12,
   "id": "35dabc9e-d636-43ef-8a02-94a8c485cac6",
   "metadata": {},
   "outputs": [
    {
     "data": {
      "text/plain": [
       "120"
      ]
     },
     "execution_count": 12,
     "metadata": {},
     "output_type": "execute_result"
    }
   ],
   "source": [
    "n = 10\n",
    "k = 3\n",
    "C = combination(n, k)\n",
    "C"
   ]
  },
  {
   "cell_type": "markdown",
   "id": "1d865fe1-7893-4fe1-bb86-7abac70a4566",
   "metadata": {},
   "source": [
    "Найдём вероятность P = m - благоприятных исходов / n - общее число исходов"
   ]
  },
  {
   "cell_type": "code",
   "execution_count": 15,
   "id": "fd7b76c3-c851-4b5d-8437-d5eafef7594c",
   "metadata": {},
   "outputs": [
    {
     "name": "stdout",
     "output_type": "stream",
     "text": [
      "Вероятность 0.83%\n"
     ]
    }
   ],
   "source": [
    "P = 1 / C\n",
    "print(f'Вероятность {round(P * 100, 2)}%')"
   ]
  },
  {
   "cell_type": "markdown",
   "id": "1d001589-43f4-4fdf-9a61-00ab3f00512a",
   "metadata": {},
   "source": [
    "3. В ящике имеется 15 деталей, из которых 9 окрашены. Рабочий случайным образом извлекает 3 детали. Какова вероятность того, что все извлеченные детали окрашены?"
   ]
  },
  {
   "cell_type": "markdown",
   "id": "471ed3e1-53c5-4945-85bf-e6acfd218488",
   "metadata": {},
   "source": [
    "Возьмём подмножество окрашенных деталей и найдём все возможные комбинации, так как нам порядок не важен, то применим формулу сочетания\n",
    "$$C^k_n = \\frac{n!}{k!(n-k)!}$$"
   ]
  },
  {
   "cell_type": "code",
   "execution_count": 18,
   "id": "bb3461ca-73b7-485f-8091-c1a981e6d687",
   "metadata": {},
   "outputs": [
    {
     "data": {
      "text/plain": [
       "84"
      ]
     },
     "execution_count": 18,
     "metadata": {},
     "output_type": "execute_result"
    }
   ],
   "source": [
    "n = 9\n",
    "k = 3\n",
    "C1 = combination(n, k)\n",
    "C"
   ]
  },
  {
   "cell_type": "markdown",
   "id": "7e4b4fdc-be32-48ab-a7e2-6ef7461430a3",
   "metadata": {},
   "source": [
    "Найдём общее число исходов"
   ]
  },
  {
   "cell_type": "code",
   "execution_count": 20,
   "id": "1ba28250-60a7-42eb-ab7e-525685153f29",
   "metadata": {},
   "outputs": [
    {
     "data": {
      "text/plain": [
       "455"
      ]
     },
     "execution_count": 20,
     "metadata": {},
     "output_type": "execute_result"
    }
   ],
   "source": [
    "n = 15\n",
    "k = 3\n",
    "C2 = combination(n, k)\n",
    "C2"
   ]
  },
  {
   "cell_type": "markdown",
   "id": "5287e611-4c37-4f49-be8d-2e45de9fb0cd",
   "metadata": {},
   "source": [
    "Найдём вероятность P = m - благоприятных исходов / n - общее число исходов"
   ]
  },
  {
   "cell_type": "code",
   "execution_count": 25,
   "id": "a84ca8b0-5625-4b26-9a14-dced60460a17",
   "metadata": {},
   "outputs": [
    {
     "name": "stdout",
     "output_type": "stream",
     "text": [
      "Вероятность 18.46%\n"
     ]
    }
   ],
   "source": [
    "P = C1 / C2\n",
    "print(f'Вероятность {round(P * 100, 2)}%')"
   ]
  },
  {
   "cell_type": "markdown",
   "id": "e1538492-4011-4c3c-bb5b-b3f58befd57f",
   "metadata": {},
   "source": [
    "4. В лотерее 100 билетов. Из них 2 выигрышных. Какова вероятность того, что 2 приобретенных билета окажутся выигрышными?"
   ]
  },
  {
   "cell_type": "markdown",
   "id": "93e04d16-a3bc-4f86-a892-7152b02ce9d0",
   "metadata": {},
   "source": [
    "Найдём общее колиество исходов"
   ]
  },
  {
   "cell_type": "code",
   "execution_count": 26,
   "id": "f45b2cd6-eede-4d0d-ac19-9ae8a56cb96a",
   "metadata": {},
   "outputs": [
    {
     "data": {
      "text/plain": [
       "4950"
      ]
     },
     "execution_count": 26,
     "metadata": {},
     "output_type": "execute_result"
    }
   ],
   "source": [
    "n = 100\n",
    "k = 2\n",
    "C = combination(n, k)\n",
    "C"
   ]
  },
  {
   "cell_type": "markdown",
   "id": "c196ae1d-3ba8-4b72-ae98-58c98a102421",
   "metadata": {},
   "source": [
    "Так как по условию приобретаются за один раз два билета, то число благоприятных исходов будет 1"
   ]
  },
  {
   "cell_type": "markdown",
   "id": "5a8ade11-2192-428a-a9ad-b7c4bbbedd71",
   "metadata": {},
   "source": [
    "Найдём вероятность P = m - благоприятных исходов / n - общее число исходов"
   ]
  },
  {
   "cell_type": "code",
   "execution_count": 27,
   "id": "11d1d462-b046-4293-8b69-8c3fe84e829f",
   "metadata": {},
   "outputs": [
    {
     "name": "stdout",
     "output_type": "stream",
     "text": [
      "Вероятность 0.02%\n"
     ]
    }
   ],
   "source": [
    "P = 1 / C\n",
    "print(f'Вероятность {round(P * 100, 2)}%')"
   ]
  }
 ],
 "metadata": {
  "kernelspec": {
   "display_name": "Python 3 (ipykernel)",
   "language": "python",
   "name": "python3"
  },
  "language_info": {
   "codemirror_mode": {
    "name": "ipython",
    "version": 3
   },
   "file_extension": ".py",
   "mimetype": "text/x-python",
   "name": "python",
   "nbconvert_exporter": "python",
   "pygments_lexer": "ipython3",
   "version": "3.9.12"
  }
 },
 "nbformat": 4,
 "nbformat_minor": 5
}
