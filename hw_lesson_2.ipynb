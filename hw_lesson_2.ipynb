{
 "cells": [
  {
   "cell_type": "code",
   "execution_count": 1,
   "id": "fe5d62bc-fd7a-42c3-b7f1-2f3000fd017e",
   "metadata": {
    "tags": []
   },
   "outputs": [],
   "source": [
    "from math import factorial"
   ]
  },
  {
   "cell_type": "markdown",
   "id": "3969ca71-9465-4ec2-b298-d8ccf2164e02",
   "metadata": {},
   "source": [
    "### Урок 2. Домашняя работа"
   ]
  },
  {
   "cell_type": "markdown",
   "id": "011a8791-17d9-42f4-81da-4ae4ed37c128",
   "metadata": {},
   "source": [
    "1. Вероятность того, что стрелок попадет в мишень, выстрелив один раз, равна 0.8. Стрелок выстрелил 100 раз. Найдите вероятность того, что стрелок попадет в цель ровно 85 раз."
   ]
  },
  {
   "cell_type": "code",
   "execution_count": 2,
   "id": "efc3fb5e-e248-4eb1-b492-3ba85aa125df",
   "metadata": {},
   "outputs": [],
   "source": [
    "k = 85\n",
    "n = 100\n",
    "p = 0.8"
   ]
  },
  {
   "cell_type": "code",
   "execution_count": 3,
   "id": "62afa705-fd89-4918-941b-9318e78fae5e",
   "metadata": {},
   "outputs": [],
   "source": [
    "def combination(n, k):\n",
    "    return int(factorial(n) / (factorial(k) * factorial(n-k)))"
   ]
  },
  {
   "cell_type": "code",
   "execution_count": 4,
   "id": "8eadddf0-8bfc-4dba-b75c-26efb8114bf5",
   "metadata": {},
   "outputs": [],
   "source": [
    "def bernoulli(k, n, p):\n",
    "    return combination(n, k) * pow(p, k) * pow((1 - p), (n - k))"
   ]
  },
  {
   "cell_type": "code",
   "execution_count": 5,
   "id": "cdbdbdcb-98b9-42af-a0f7-02ebc790a95d",
   "metadata": {},
   "outputs": [
    {
     "name": "stdout",
     "output_type": "stream",
     "text": [
      "Вероятность 4.81%\n"
     ]
    }
   ],
   "source": [
    "P = bernoulli(k, n, p)\n",
    "print(f'Вероятность {round(P * 100, 2)}%')"
   ]
  },
  {
   "cell_type": "markdown",
   "id": "5a721fae-f6d7-4baf-8247-0d85c88a0210",
   "metadata": {},
   "source": [
    "2. Вероятность того, что лампочка перегорит в течение первого дня эксплуатации, равна 0.0004. В жилом комплексе после ремонта в один день включили 5000 новых лампочек. Какова вероятность, что ни одна из них не перегорит в первый день? Какова вероятность, что перегорят ровно две?"
   ]
  },
  {
   "cell_type": "markdown",
   "id": "0e1fe1b8-7382-4bbb-bee6-4093a6f407bc",
   "metadata": {},
   "source": [
    "Какова вероятность, что ни одна из них не перегорит в первый день?"
   ]
  },
  {
   "cell_type": "code",
   "execution_count": 6,
   "id": "0d4bfceb-b173-4248-a136-00f8052fe675",
   "metadata": {},
   "outputs": [],
   "source": [
    "n = 5000\n",
    "p = 0.0004\n",
    "m = 0"
   ]
  },
  {
   "cell_type": "code",
   "execution_count": 7,
   "id": "2f3ef724-5387-4a22-a8f5-88d4a47a14fb",
   "metadata": {},
   "outputs": [
    {
     "data": {
      "text/plain": [
       "2.0"
      ]
     },
     "execution_count": 7,
     "metadata": {},
     "output_type": "execute_result"
    }
   ],
   "source": [
    "lam = p * n\n",
    "lam"
   ]
  },
  {
   "cell_type": "code",
   "execution_count": 8,
   "id": "acdb0bd3-983a-4897-be7f-a14e1c919239",
   "metadata": {},
   "outputs": [],
   "source": [
    "def poisson(lam, m):\n",
    "    return (pow(lam, m)/ factorial(m)) * pow(2.72, -lam)"
   ]
  },
  {
   "cell_type": "code",
   "execution_count": 9,
   "id": "18c15d0a-8d76-4b73-bfe4-651ba0cca589",
   "metadata": {},
   "outputs": [
    {
     "name": "stdout",
     "output_type": "stream",
     "text": [
      "Вероятность 13.52%\n"
     ]
    }
   ],
   "source": [
    "P = poisson(lam, m)\n",
    "print(f'Вероятность {round(P * 100, 2)}%')"
   ]
  },
  {
   "cell_type": "markdown",
   "id": "982b0a67-e101-4072-a2a3-48a76adcbb35",
   "metadata": {},
   "source": [
    "Какова вероятность, что перегорят ровно две?"
   ]
  },
  {
   "cell_type": "code",
   "execution_count": 10,
   "id": "746cb352-b75a-4dcf-82eb-50cfd5c515db",
   "metadata": {},
   "outputs": [],
   "source": [
    "m = 2"
   ]
  },
  {
   "cell_type": "code",
   "execution_count": 11,
   "id": "d0da05b6-199a-459e-b5ea-a7299dc0139a",
   "metadata": {},
   "outputs": [
    {
     "name": "stdout",
     "output_type": "stream",
     "text": [
      "Вероятность 27.03%\n"
     ]
    }
   ],
   "source": [
    "P = poisson(lam, m)\n",
    "print(f'Вероятность {round(P * 100, 2)}%')"
   ]
  },
  {
   "cell_type": "markdown",
   "id": "51524f2d-aca2-473c-bc0d-8f3f4b94c90f",
   "metadata": {},
   "source": [
    "3. Монету подбросили 144 раза. Какова вероятность, что орел выпадет ровно 70 раз?"
   ]
  },
  {
   "cell_type": "code",
   "execution_count": 12,
   "id": "97979018-0c9d-408e-8938-0612119f18fb",
   "metadata": {},
   "outputs": [],
   "source": [
    "k = 70\n",
    "n = 144\n",
    "p = 0.5"
   ]
  },
  {
   "cell_type": "code",
   "execution_count": 13,
   "id": "47016d32-30be-4be6-98cb-aa1d888b3281",
   "metadata": {},
   "outputs": [
    {
     "name": "stdout",
     "output_type": "stream",
     "text": [
      "Вероятность 6.28%\n"
     ]
    }
   ],
   "source": [
    "P = bernoulli(k, n, p)\n",
    "print(f'Вероятность {round(P * 100, 2)}%')"
   ]
  },
  {
   "cell_type": "raw",
   "id": "2e4bd0a7-5d66-4fe9-a63a-950390902b49",
   "metadata": {},
   "source": [
    "4. В первом ящике находится 10 мячей, из которых 7 - белые. Во втором ящике - 11 мячей, из которых 9 белых. Из каждого ящика вытаскивают случайным образом по два мяча. Какова вероятность того, что все мячи белые? Какова вероятность того, что ровно два мяча белые? Какова вероятность того, что хотя бы один мяч белый?"
   ]
  },
  {
   "cell_type": "markdown",
   "id": "a06409b3-9fb2-4599-9a84-06807aeb7a8c",
   "metadata": {},
   "source": [
    "* *Какова вероятность того, что все мячи белые?*"
   ]
  },
  {
   "cell_type": "markdown",
   "id": "1667e7bb-c666-459e-9ad7-d8e5abfe5919",
   "metadata": {},
   "source": [
    "Найдём все возможные сочетания белых мячей 1 ящике"
   ]
  },
  {
   "cell_type": "code",
   "execution_count": 14,
   "id": "62b49c19-79b2-4ed1-a562-49179ec2f0b5",
   "metadata": {},
   "outputs": [
    {
     "data": {
      "text/plain": [
       "21"
      ]
     },
     "execution_count": 14,
     "metadata": {},
     "output_type": "execute_result"
    }
   ],
   "source": [
    "C_7_2 = combination(7, 2)\n",
    "C_7_2"
   ]
  },
  {
   "cell_type": "markdown",
   "id": "4cb2e713-94cc-43bf-8dec-77f881c17e9b",
   "metadata": {},
   "source": [
    "Найдём все возможные сочетания из 10 по 2 (общее число исходов) 1 ящике"
   ]
  },
  {
   "cell_type": "code",
   "execution_count": 15,
   "id": "33155833-08f8-46dd-a95a-ec75af591a6d",
   "metadata": {},
   "outputs": [
    {
     "data": {
      "text/plain": [
       "45"
      ]
     },
     "execution_count": 15,
     "metadata": {},
     "output_type": "execute_result"
    }
   ],
   "source": [
    "C_10_2 = combination(10, 2)\n",
    "C_10_2"
   ]
  },
  {
   "cell_type": "code",
   "execution_count": 16,
   "id": "fadd70c5-d6aa-495b-a3dd-846569e0097e",
   "metadata": {},
   "outputs": [
    {
     "name": "stdout",
     "output_type": "stream",
     "text": [
      "Вероятность 46.67%\n"
     ]
    }
   ],
   "source": [
    "P_white1 = C_7_2 / C_10_2\n",
    "print(f'Вероятность {round(P_white1 * 100, 2)}%')"
   ]
  },
  {
   "cell_type": "markdown",
   "id": "2825e8b7-61aa-4318-9fe2-91a61bea770e",
   "metadata": {},
   "source": [
    "Найдём все возможные сочетания белых мячей 2 ящике"
   ]
  },
  {
   "cell_type": "code",
   "execution_count": 17,
   "id": "001a1207-dd36-410a-88dc-12ab7edcbd2b",
   "metadata": {},
   "outputs": [
    {
     "data": {
      "text/plain": [
       "36"
      ]
     },
     "execution_count": 17,
     "metadata": {},
     "output_type": "execute_result"
    }
   ],
   "source": [
    "C_9_2 = combination(9, 2)\n",
    "C_9_2"
   ]
  },
  {
   "cell_type": "markdown",
   "id": "3dcd1361-5e56-4f0f-bc8f-f52180a998b9",
   "metadata": {},
   "source": [
    "Найдём все возможные сочетания из 11 по 2 (общее число исходов) 2 ящике"
   ]
  },
  {
   "cell_type": "code",
   "execution_count": 18,
   "id": "d5578ac3-2694-4ffa-b607-c5e73d67ebed",
   "metadata": {},
   "outputs": [
    {
     "data": {
      "text/plain": [
       "55"
      ]
     },
     "execution_count": 18,
     "metadata": {},
     "output_type": "execute_result"
    }
   ],
   "source": [
    "C_11_2 = combination(11, 2)\n",
    "C_11_2"
   ]
  },
  {
   "cell_type": "code",
   "execution_count": 19,
   "id": "db2220a3-784b-416a-a0d9-a6f72e43ce63",
   "metadata": {},
   "outputs": [
    {
     "name": "stdout",
     "output_type": "stream",
     "text": [
      "Вероятность 65.45%\n"
     ]
    }
   ],
   "source": [
    "P_white2 = C_9_2 / C_11_2\n",
    "print(f'Вероятность {round(P_white2 * 100, 2)}%')"
   ]
  },
  {
   "cell_type": "markdown",
   "id": "58db0c50-968f-4b9f-8b27-78129fe2fed9",
   "metadata": {},
   "source": [
    "Вероятность, что все мячи белые"
   ]
  },
  {
   "cell_type": "code",
   "execution_count": 20,
   "id": "0c41ae5b-1fec-42be-beba-3b332722959e",
   "metadata": {},
   "outputs": [
    {
     "name": "stdout",
     "output_type": "stream",
     "text": [
      "Вероятность 30.55%\n"
     ]
    }
   ],
   "source": [
    "P_white = P_white1 * P_white2\n",
    "print(f'Вероятность {round(P_white * 100, 2)}%')"
   ]
  },
  {
   "cell_type": "markdown",
   "id": "c46faa04-34de-4f85-8897-dda5ba54d83e",
   "metadata": {},
   "source": [
    "* *Какова вероятность того, что ровно два мяча белые?*"
   ]
  },
  {
   "cell_type": "markdown",
   "id": "f7bbcdb2-4868-4aba-9463-d9c00464830d",
   "metadata": {},
   "source": [
    "Варианты благоприятных исходов может быть 3:\n",
    "##### --- 1 ящ.|   2 ящ.\n",
    "1.  ББ  |  ЧЧ  или\n",
    "2. ЧБ | ЧБ (порядок не важен) или\n",
    "3. ЧЧ | ББ"
   ]
  },
  {
   "cell_type": "markdown",
   "id": "d3272d72-2f1b-4271-8619-f1d8f082c308",
   "metadata": {},
   "source": [
    "Так как сочетания 2 белых нам известно посчитаем сочетание, когда 1 белый и 1 чёрный для 1 ящика"
   ]
  },
  {
   "cell_type": "code",
   "execution_count": 21,
   "id": "70efbc62-6d8c-4a71-bd28-c9c038865d6d",
   "metadata": {},
   "outputs": [
    {
     "data": {
      "text/plain": [
       "7"
      ]
     },
     "execution_count": 21,
     "metadata": {},
     "output_type": "execute_result"
    }
   ],
   "source": [
    "C_7_1 = combination(7, 1)\n",
    "C_7_1"
   ]
  },
  {
   "cell_type": "code",
   "execution_count": 22,
   "id": "cdd9cbd3-fc42-424d-b316-06021e2e01c6",
   "metadata": {},
   "outputs": [
    {
     "data": {
      "text/plain": [
       "3"
      ]
     },
     "execution_count": 22,
     "metadata": {},
     "output_type": "execute_result"
    }
   ],
   "source": [
    "C_3_1 = combination(3, 1)\n",
    "C_3_1"
   ]
  },
  {
   "cell_type": "code",
   "execution_count": 23,
   "id": "6a7acc65-99d0-4abd-a4d0-7b429652dfc6",
   "metadata": {},
   "outputs": [
    {
     "name": "stdout",
     "output_type": "stream",
     "text": [
      "Вероятность 46.67%\n"
     ]
    }
   ],
   "source": [
    "P_white_black1 = (C_7_1 * C_3_1) / C_10_2\n",
    "print(f'Вероятность {round(P_white_black1 * 100, 2)}%')"
   ]
  },
  {
   "cell_type": "markdown",
   "id": "1aa1cd01-3d20-4af4-94b0-6760d0719227",
   "metadata": {},
   "source": [
    "Посчитаем сочетание когда в 1 ящике 2 чёрных"
   ]
  },
  {
   "cell_type": "code",
   "execution_count": 24,
   "id": "e3f490db-44bd-4252-b4c9-a5ed97933af3",
   "metadata": {},
   "outputs": [
    {
     "data": {
      "text/plain": [
       "3"
      ]
     },
     "execution_count": 24,
     "metadata": {},
     "output_type": "execute_result"
    }
   ],
   "source": [
    "C_3_2 = combination(3, 2)\n",
    "C_3_2"
   ]
  },
  {
   "cell_type": "code",
   "execution_count": 25,
   "id": "26bcb884-3035-44ee-b72c-a708a7cebabc",
   "metadata": {},
   "outputs": [
    {
     "name": "stdout",
     "output_type": "stream",
     "text": [
      "Вероятность 6.67%\n"
     ]
    }
   ],
   "source": [
    "P_black_black1 = C_3_2 / C_10_2\n",
    "print(f'Вероятность {round(P_black_black1 * 100, 2)}%')"
   ]
  },
  {
   "cell_type": "markdown",
   "id": "58fb29e1-7d12-4151-b15a-be5c9d9d0e15",
   "metadata": {},
   "source": [
    "Посчитаем сочетание, когда 1 белый и 1 чёрный для 2 ящика"
   ]
  },
  {
   "cell_type": "code",
   "execution_count": 26,
   "id": "33e16a4b-0824-4a31-a91e-06b0c6ffdc69",
   "metadata": {},
   "outputs": [
    {
     "data": {
      "text/plain": [
       "9"
      ]
     },
     "execution_count": 26,
     "metadata": {},
     "output_type": "execute_result"
    }
   ],
   "source": [
    "C_9_1 = combination(9, 1)\n",
    "C_9_1"
   ]
  },
  {
   "cell_type": "code",
   "execution_count": 27,
   "id": "e198d8d9-0f1f-44ba-9b80-10df9330b136",
   "metadata": {},
   "outputs": [
    {
     "data": {
      "text/plain": [
       "2"
      ]
     },
     "execution_count": 27,
     "metadata": {},
     "output_type": "execute_result"
    }
   ],
   "source": [
    "C_2_1 = combination(2, 1)\n",
    "C_2_1"
   ]
  },
  {
   "cell_type": "code",
   "execution_count": 28,
   "id": "c29ecefd-53ad-4118-9ae1-578985410682",
   "metadata": {},
   "outputs": [
    {
     "name": "stdout",
     "output_type": "stream",
     "text": [
      "Вероятность 32.73%\n"
     ]
    }
   ],
   "source": [
    "P_white_black2 = (C_9_1 * C_2_1) / C_11_2\n",
    "print(f'Вероятность {round(P_white_black2 * 100, 2)}%')"
   ]
  },
  {
   "cell_type": "markdown",
   "id": "35d5c830-908c-4507-b6b7-93ce484bfd89",
   "metadata": {},
   "source": [
    "Посчитаем сочетание когда в 2 ящике 2 чёрных"
   ]
  },
  {
   "cell_type": "code",
   "execution_count": 29,
   "id": "ac434694-8339-48b0-a58e-8bb5ace84ba3",
   "metadata": {},
   "outputs": [
    {
     "data": {
      "text/plain": [
       "1"
      ]
     },
     "execution_count": 29,
     "metadata": {},
     "output_type": "execute_result"
    }
   ],
   "source": [
    "C_2_2 = combination(2, 2)\n",
    "C_2_2"
   ]
  },
  {
   "cell_type": "code",
   "execution_count": 30,
   "id": "51300229-7eee-4fc9-857a-28a4b331867f",
   "metadata": {},
   "outputs": [
    {
     "name": "stdout",
     "output_type": "stream",
     "text": [
      "Вероятность 1.82%\n"
     ]
    }
   ],
   "source": [
    "P_black_black2 = C_2_2 / C_11_2\n",
    "print(f'Вероятность {round(P_black_black2 * 100, 2)}%')"
   ]
  },
  {
   "cell_type": "markdown",
   "id": "c231131c-4ef1-44e8-bb64-e3945a7acb3d",
   "metadata": {},
   "source": [
    "Вероятность, что ровно 2 мяча будут белые"
   ]
  },
  {
   "cell_type": "code",
   "execution_count": 31,
   "id": "d1147559-4aab-43c1-99bf-bb4fe6f79ef8",
   "metadata": {},
   "outputs": [
    {
     "name": "stdout",
     "output_type": "stream",
     "text": [
      "Вероятность 20.48%\n"
     ]
    }
   ],
   "source": [
    "P = (P_white1 * P_black_black2) + (P_white_black1 * P_white_black2) + (P_black_black1 * P_white2)\n",
    "print(f'Вероятность {round(P * 100, 2)}%')"
   ]
  },
  {
   "cell_type": "markdown",
   "id": "5bd80c62-5c9f-4cd1-a2c6-63aa992ec0f0",
   "metadata": {},
   "source": [
    "* *Какова вероятность того, что хотя бы один мяч белый?*"
   ]
  },
  {
   "cell_type": "code",
   "execution_count": 32,
   "id": "c3d627d5-c19e-4b73-988e-b194af5fd6b3",
   "metadata": {},
   "outputs": [
    {
     "data": {
      "text/plain": [
       "42"
      ]
     },
     "execution_count": 32,
     "metadata": {},
     "output_type": "execute_result"
    }
   ],
   "source": [
    "C_total1 = C_10_2 - C_3_2\n",
    "C_total1"
   ]
  },
  {
   "cell_type": "code",
   "execution_count": 33,
   "id": "4213b499-655a-44f0-beb1-27e796781ab4",
   "metadata": {},
   "outputs": [
    {
     "name": "stdout",
     "output_type": "stream",
     "text": [
      "Вероятность 93.33%\n"
     ]
    }
   ],
   "source": [
    "P1 = C_total1 / C_10_2\n",
    "print(f'Вероятность {round(P1 * 100, 2)}%')"
   ]
  },
  {
   "cell_type": "code",
   "execution_count": 34,
   "id": "4a76b1cc-65e5-4aa7-9809-028bde5ff7dd",
   "metadata": {},
   "outputs": [
    {
     "data": {
      "text/plain": [
       "54"
      ]
     },
     "execution_count": 34,
     "metadata": {},
     "output_type": "execute_result"
    }
   ],
   "source": [
    "C_total2 = C_11_2 - C_2_2\n",
    "C_total2"
   ]
  },
  {
   "cell_type": "code",
   "execution_count": 35,
   "id": "42a4965a-c0b5-4618-8ebd-90ba48e3c1e7",
   "metadata": {},
   "outputs": [
    {
     "name": "stdout",
     "output_type": "stream",
     "text": [
      "Вероятность 98.18%\n"
     ]
    }
   ],
   "source": [
    "P2 = C_total2 / C_11_2\n",
    "print(f'Вероятность {round(P2 * 100, 2)}%')"
   ]
  },
  {
   "cell_type": "markdown",
   "id": "e136ff69-068a-4f34-bfda-71efa9296890",
   "metadata": {},
   "source": [
    "Вероятность, что хотябы один мяч будет белый:"
   ]
  },
  {
   "cell_type": "code",
   "execution_count": 36,
   "id": "73786fbc-2e66-4f57-8c40-0fcb6f9d3c09",
   "metadata": {},
   "outputs": [
    {
     "name": "stdout",
     "output_type": "stream",
     "text": [
      "Вероятность 91.64%\n"
     ]
    }
   ],
   "source": [
    "P_total = P1 * P2\n",
    "print(f'Вероятность {round(P_total * 100, 2)}%')"
   ]
  }
 ],
 "metadata": {
  "kernelspec": {
   "display_name": "Python 3 (ipykernel)",
   "language": "python",
   "name": "python3"
  },
  "language_info": {
   "codemirror_mode": {
    "name": "ipython",
    "version": 3
   },
   "file_extension": ".py",
   "mimetype": "text/x-python",
   "name": "python",
   "nbconvert_exporter": "python",
   "pygments_lexer": "ipython3",
   "version": "3.9.12"
  }
 },
 "nbformat": 4,
 "nbformat_minor": 5
}
