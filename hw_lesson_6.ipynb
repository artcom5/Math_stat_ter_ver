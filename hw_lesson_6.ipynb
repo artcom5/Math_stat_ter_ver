{
 "cells": [
  {
   "cell_type": "markdown",
   "id": "43657b05-3c77-422e-93b5-f5e7a4f40b7d",
   "metadata": {},
   "source": [
    "### Урок 6. Домашняя работа"
   ]
  },
  {
   "cell_type": "code",
   "execution_count": 1,
   "id": "4551a0bb-8627-46e5-b6a8-8c0fdee4fce3",
   "metadata": {},
   "outputs": [],
   "source": [
    "import numpy as np\n",
    "from math import sqrt"
   ]
  },
  {
   "cell_type": "markdown",
   "id": "976c0386-21c3-4363-b33f-b3e04bef1c10",
   "metadata": {},
   "source": [
    "1. Даны значения величины заработной платы заемщиков банка (zp) и значения их поведенческого кредитного скоринга (ks):\n",
    "zp = [35, 45, 190, 200, 40, 70, 54, 150, 120, 110],\n",
    "ks = [401, 574, 874, 919, 459, 739, 653, 902, 746, 832].\n",
    "Найдите ковариацию этих двух величин с помощью элементарных действий, а затем с помощью функции cov из numpy\n",
    "Полученные значения должны быть равны.\n",
    "Найдите коэффициент корреляции Пирсона с помощью ковариации и среднеквадратичных отклонений двух признаков,\n",
    "а затем с использованием функций из библиотек numpy и pandas."
   ]
  },
  {
   "cell_type": "code",
   "execution_count": 2,
   "id": "90f0fc22-1e1a-4637-b7db-2b029b1d16b0",
   "metadata": {},
   "outputs": [],
   "source": [
    "zp = [35, 45, 190, 200, 40, 70, 54, 150, 120, 110]\n",
    "ks = [401, 574, 874, 919, 459, 739, 653, 902, 746, 832]"
   ]
  },
  {
   "cell_type": "code",
   "execution_count": 3,
   "id": "c0f99beb-bca8-4e4f-939a-c06fec509be8",
   "metadata": {},
   "outputs": [
    {
     "data": {
      "text/plain": [
       "array([ 35,  45, 190, 200,  40,  70,  54, 150, 120, 110])"
      ]
     },
     "execution_count": 3,
     "metadata": {},
     "output_type": "execute_result"
    }
   ],
   "source": [
    "zp_arr = np.array(zp)\n",
    "zp_arr"
   ]
  },
  {
   "cell_type": "code",
   "execution_count": 4,
   "id": "f8e59fb1-4f28-4a6f-a9e6-bd20bcab1124",
   "metadata": {},
   "outputs": [
    {
     "data": {
      "text/plain": [
       "array([401, 574, 874, 919, 459, 739, 653, 902, 746, 832])"
      ]
     },
     "execution_count": 4,
     "metadata": {},
     "output_type": "execute_result"
    }
   ],
   "source": [
    "ks_arr = np.array(ks)\n",
    "ks_arr"
   ]
  },
  {
   "cell_type": "code",
   "execution_count": 5,
   "id": "86e25f23-e8c9-4a0d-a939-c4accafc4d82",
   "metadata": {},
   "outputs": [
    {
     "data": {
      "text/plain": [
       "array([[ 3494.64,  9157.84],\n",
       "       [ 9157.84, 30468.89]])"
      ]
     },
     "execution_count": 5,
     "metadata": {},
     "output_type": "execute_result"
    }
   ],
   "source": [
    "np.cov(zp_arr, ks_arr, ddof=0)"
   ]
  },
  {
   "cell_type": "code",
   "execution_count": 6,
   "id": "8481e4a0-21dd-4017-bbe5-2195cc34dea4",
   "metadata": {},
   "outputs": [
    {
     "data": {
      "text/plain": [
       "9157.839999999997"
      ]
     },
     "execution_count": 6,
     "metadata": {},
     "output_type": "execute_result"
    }
   ],
   "source": [
    "cov = np.mean(ks_arr * zp_arr) - np.mean(ks_arr) * np.mean(zp_arr)\n",
    "cov"
   ]
  },
  {
   "cell_type": "code",
   "execution_count": 7,
   "id": "4c282126-8f1c-409f-906c-37a8d0a266ed",
   "metadata": {},
   "outputs": [
    {
     "data": {
      "text/plain": [
       "174.55340157098058"
      ]
     },
     "execution_count": 7,
     "metadata": {},
     "output_type": "execute_result"
    }
   ],
   "source": [
    "ks_std = np.std(ks_arr, ddof=0)\n",
    "ks_std"
   ]
  },
  {
   "cell_type": "code",
   "execution_count": 8,
   "id": "4b1cdf96-6eda-4af7-a5c3-a5481438d90a",
   "metadata": {},
   "outputs": [
    {
     "data": {
      "text/plain": [
       "59.115480206118605"
      ]
     },
     "execution_count": 8,
     "metadata": {},
     "output_type": "execute_result"
    }
   ],
   "source": [
    "zp_std = np.std(zp_arr, ddof=0)\n",
    "zp_std"
   ]
  },
  {
   "cell_type": "code",
   "execution_count": 9,
   "id": "df74f7ce-3cda-4ae7-b6ed-42151517da3f",
   "metadata": {},
   "outputs": [
    {
     "data": {
      "text/plain": [
       "0.8874900920739158"
      ]
     },
     "execution_count": 9,
     "metadata": {},
     "output_type": "execute_result"
    }
   ],
   "source": [
    "cov_pirs = cov / (zp_std * ks_std)\n",
    "cov_pirs"
   ]
  },
  {
   "cell_type": "code",
   "execution_count": 10,
   "id": "1ec8e172-6ffc-4ebd-b3b1-1ad52501c8a7",
   "metadata": {},
   "outputs": [
    {
     "data": {
      "text/plain": [
       "array([[1.        , 0.88749009],\n",
       "       [0.88749009, 1.        ]])"
      ]
     },
     "execution_count": 10,
     "metadata": {},
     "output_type": "execute_result"
    }
   ],
   "source": [
    "np.corrcoef(zp_arr, ks_arr)"
   ]
  },
  {
   "cell_type": "markdown",
   "id": "c35ae334-4a45-4f4b-a19e-d4a31859e3c6",
   "metadata": {},
   "source": [
    "2. Измерены значения IQ выборки студентов,\n",
    "обучающихся в местных технических вузах:\n",
    "131, 125, 115, 122, 131, 115, 107, 99, 125, 111.\n",
    "Известно, что в генеральной совокупности IQ распределен нормально.\n",
    "Найдите доверительный интервал для математического ожидания с надежностью 0.95."
   ]
  },
  {
   "cell_type": "code",
   "execution_count": 11,
   "id": "2149345e-5f3e-4b4c-9c76-a6a51534c43b",
   "metadata": {},
   "outputs": [
    {
     "data": {
      "text/plain": [
       "array([131, 125, 115, 122, 131, 115, 107,  99, 125, 111])"
      ]
     },
     "execution_count": 11,
     "metadata": {},
     "output_type": "execute_result"
    }
   ],
   "source": [
    "iq = np.array([131, 125, 115, 122, 131, 115, 107, 99, 125, 111])\n",
    "iq"
   ]
  },
  {
   "cell_type": "code",
   "execution_count": 12,
   "id": "f38386e7-a7e5-44c4-a29d-b70d4951b39c",
   "metadata": {},
   "outputs": [
    {
     "data": {
      "text/plain": [
       "118.1"
      ]
     },
     "execution_count": 12,
     "metadata": {},
     "output_type": "execute_result"
    }
   ],
   "source": [
    "X = np.mean(iq)\n",
    "X"
   ]
  },
  {
   "cell_type": "code",
   "execution_count": 13,
   "id": "47f9399a-a869-4a6d-be68-a64ea3d416b3",
   "metadata": {},
   "outputs": [
    {
     "data": {
      "text/plain": [
       "10.54566788359614"
      ]
     },
     "execution_count": 13,
     "metadata": {},
     "output_type": "execute_result"
    }
   ],
   "source": [
    "sigma = np.std(iq, ddof=1)\n",
    "sigma"
   ]
  },
  {
   "cell_type": "code",
   "execution_count": 14,
   "id": "4f53a03e-4852-4395-835b-e1996c81295e",
   "metadata": {},
   "outputs": [],
   "source": [
    "t_a2 = 2.262 # по таблице распределения Стьюдента при а = 0.025\n",
    "n = 10\n"
   ]
  },
  {
   "cell_type": "code",
   "execution_count": 15,
   "id": "9158c467-9eca-44e4-a495-a1821c0b50ca",
   "metadata": {},
   "outputs": [],
   "source": [
    "X1 = X + t_a2 * (sigma/sqrt(n))\n",
    "X2 = X - t_a2 * (sigma/sqrt(n))"
   ]
  },
  {
   "cell_type": "code",
   "execution_count": 16,
   "id": "66771017-a107-4e2b-a191-4d47a8ae5d9d",
   "metadata": {},
   "outputs": [
    {
     "name": "stdout",
     "output_type": "stream",
     "text": [
      "[110.55660776308164, 125.64339223691834]\n"
     ]
    }
   ],
   "source": [
    "print([X2, X1])"
   ]
  },
  {
   "cell_type": "markdown",
   "id": "afb45a6a-8476-4476-b52a-4e9699dc52c3",
   "metadata": {},
   "source": [
    "3. Известно, что рост футболистов в сборной распределен нормально\n",
    "с дисперсией генеральной совокупности, равной 25 кв.см. Объем выборки равен 27,\n",
    "среднее выборочное составляет 174.2. Найдите доверительный интервал для математического\n",
    "ожидания с надежностью 0.95."
   ]
  },
  {
   "cell_type": "code",
   "execution_count": 17,
   "id": "f797f93e-9ffa-467e-9a55-b45a23d71fa9",
   "metadata": {},
   "outputs": [],
   "source": [
    "X = 174.2\n",
    "sigma = 5\n",
    "n = 27\n",
    "Z_a2 = 1.96"
   ]
  },
  {
   "cell_type": "code",
   "execution_count": 18,
   "id": "2bca3a9e-ada7-452c-8ca5-9dab197f1286",
   "metadata": {},
   "outputs": [],
   "source": [
    "X1 = X + Z_a2 * sigma/sqrt(n)\n",
    "X2 = X - Z_a2 * sigma/sqrt(n)"
   ]
  },
  {
   "cell_type": "code",
   "execution_count": 19,
   "id": "8a6cbe50-40ee-4b10-a040-d1de7dd3da83",
   "metadata": {},
   "outputs": [
    {
     "name": "stdout",
     "output_type": "stream",
     "text": [
      "[172.31398912064722, 176.08601087935276]\n"
     ]
    }
   ],
   "source": [
    "print([X2, X1])"
   ]
  },
  {
   "cell_type": "code",
   "execution_count": null,
   "id": "d3ff0edf-d140-4327-a098-bea7cfcab16f",
   "metadata": {},
   "outputs": [],
   "source": []
  }
 ],
 "metadata": {
  "kernelspec": {
   "display_name": "Python 3 (ipykernel)",
   "language": "python",
   "name": "python3"
  },
  "language_info": {
   "codemirror_mode": {
    "name": "ipython",
    "version": 3
   },
   "file_extension": ".py",
   "mimetype": "text/x-python",
   "name": "python",
   "nbconvert_exporter": "python",
   "pygments_lexer": "ipython3",
   "version": "3.9.12"
  }
 },
 "nbformat": 4,
 "nbformat_minor": 5
}
