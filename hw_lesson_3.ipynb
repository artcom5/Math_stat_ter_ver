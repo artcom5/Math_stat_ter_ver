{
 "cells": [
  {
   "cell_type": "code",
   "execution_count": 1,
   "id": "b105f784-f71e-4156-9011-8cc1517a3dd8",
   "metadata": {},
   "outputs": [],
   "source": [
    "from math import factorial"
   ]
  },
  {
   "cell_type": "code",
   "execution_count": 2,
   "id": "9ffdc0f8-1044-4187-b85c-6012e20c6541",
   "metadata": {},
   "outputs": [],
   "source": [
    "from math import sqrt"
   ]
  },
  {
   "cell_type": "markdown",
   "id": "728cb8cd-84b8-49f2-9cbc-c70911f33994",
   "metadata": {},
   "source": [
    "### Урок 3. Домашняя работа"
   ]
  },
  {
   "cell_type": "markdown",
   "id": "28ad53fa-2fd1-4711-bcfc-8a88d50e6fe7",
   "metadata": {},
   "source": [
    "1. Даны значения зарплат из выборки выпускников: 100, 80, 75, 77, 89, 33, 45, 25, 65, 17, 30, 24, 57, 55, 70, 75, 65, 84, 90, 150. Посчитать (желательно без использования статистических методов наподобие std, var, mean) среднее арифметическое, среднее квадратичное отклонение, смещенную и несмещенную оценки дисперсий для данной выборки."
   ]
  },
  {
   "cell_type": "markdown",
   "id": "b601646a-ce5a-4875-b587-2e28afb02e64",
   "metadata": {},
   "source": [
    "Cреднее арифметическое"
   ]
  },
  {
   "cell_type": "code",
   "execution_count": 3,
   "id": "8bd1f3df-8835-4426-95be-e958a41af855",
   "metadata": {},
   "outputs": [],
   "source": [
    "arr_salary = [100, 80, 75, 77, 89, 33, 45, 25, 65, 17, 30, 24, 57, 55, 70, 75, 65, 84, 90, 150]"
   ]
  },
  {
   "cell_type": "code",
   "execution_count": 6,
   "id": "5d3f3347-1908-4593-9fa8-41faac903159",
   "metadata": {},
   "outputs": [],
   "source": [
    "def some_statistics(arr):\n",
    "    \"\"\"Функция принимает массив чисел и производит расчет некоторых\n",
    "       статистических данных\"\"\"\n",
    "    s_square = 0\n",
    "    avarage = sum(arr)/len(arr)\n",
    "    s_square = [(i - avarage)**2 for i in arr]\n",
    "    my_var = sum(s_square)/(len(arr)-1)\n",
    "    print(f'Cреднее арифметическое {avarage}')\n",
    "    print(f'Среднее квадратическое отклонение {round(sqrt(my_var), 3)}')\n",
    "    print(f'Несмещенная дисперсия {round(my_var, 3)}')\n",
    "    print(f'Cмещенная дисперсия {round(sum(s_square)/len(arr), 3)}')"
   ]
  },
  {
   "cell_type": "code",
   "execution_count": 7,
   "id": "40f780bd-f095-4ee3-8535-8a5908ce0fa9",
   "metadata": {},
   "outputs": [
    {
     "name": "stdout",
     "output_type": "stream",
     "text": [
      "Cреднее арифметическое 65.3\n",
      "Среднее квадратическое отклонение 31.625\n",
      "Несмещенная дисперсия 1000.116\n",
      "Cмещенная дисперсия 950.11\n"
     ]
    }
   ],
   "source": [
    "some_statistics(arr_salary)"
   ]
  },
  {
   "cell_type": "markdown",
   "id": "71eb4085-a23c-41b8-8118-4476ab0e9bc3",
   "metadata": {},
   "source": [
    "2. В первом ящике находится 8 мячей, из которых 5 - белые. Во втором ящике - 12 мячей, из которых 5 белых. Из первого ящика вытаскивают случайным образом два мяча, из второго - 4. Какова вероятность того, что 3 мяча белые?"
   ]
  },
  {
   "cell_type": "markdown",
   "id": "df5400c2-8c1e-4821-97b5-b7a7a1680e0a",
   "metadata": {},
   "source": [
    "Варианты благоприятных исходов может быть 3:\n",
    "##### --- 1 ящ.|   2 ящ.\n",
    "1.  ББ  |  БЧЧЧ  или\n",
    "2. ЧБ | ББЧЧ (порядок не важен) или\n",
    "3. ЧЧ | БББЧ"
   ]
  },
  {
   "cell_type": "code",
   "execution_count": 10,
   "id": "9cbc9169-91df-497d-af37-0f747fd4cfa6",
   "metadata": {},
   "outputs": [],
   "source": [
    "def combination(n, k):\n",
    "    return int(factorial(n) / (factorial(k) * factorial(n-k)))"
   ]
  },
  {
   "cell_type": "code",
   "execution_count": 13,
   "id": "e1ad2cc0-0108-4d3c-b030-a9d7d4f6b0d6",
   "metadata": {},
   "outputs": [
    {
     "data": {
      "text/plain": [
       "0.12626262626262627"
      ]
     },
     "execution_count": 13,
     "metadata": {},
     "output_type": "execute_result"
    }
   ],
   "source": [
    "P1 = (combination(5, 2)/combination(8, 2)) * (combination(5, 1) * combination(7, 3))/combination(12, 4)\n",
    "P1"
   ]
  },
  {
   "cell_type": "code",
   "execution_count": 15,
   "id": "a19200ad-3c1f-4c59-aa1e-267df5d686f6",
   "metadata": {},
   "outputs": [
    {
     "data": {
      "text/plain": [
       "0.22727272727272727"
      ]
     },
     "execution_count": 15,
     "metadata": {},
     "output_type": "execute_result"
    }
   ],
   "source": [
    "P2 = (combination(5, 1) * combination(3, 1))/combination(8, 2) * (combination(5, 2) * combination(7, 2))/combination(12, 4)\n",
    "P2"
   ]
  },
  {
   "cell_type": "code",
   "execution_count": 17,
   "id": "e60354f2-7805-44e7-86c6-c471e07bfa80",
   "metadata": {},
   "outputs": [
    {
     "data": {
      "text/plain": [
       "0.015151515151515152"
      ]
     },
     "execution_count": 17,
     "metadata": {},
     "output_type": "execute_result"
    }
   ],
   "source": [
    "P3 = combination(3, 2)/combination(8, 2) * (combination(5, 3) * combination(7, 1))/combination(12, 4)\n",
    "P3"
   ]
  },
  {
   "cell_type": "code",
   "execution_count": 21,
   "id": "df22c8ff-13c3-47c1-bc84-def4cd9deeb9",
   "metadata": {},
   "outputs": [
    {
     "name": "stdout",
     "output_type": "stream",
     "text": [
      "Вероятность того, что 3 мяча белые = 0.369\n"
     ]
    }
   ],
   "source": [
    "P = P1 + P2 + P3\n",
    "print(f'Вероятность того, что 3 мяча белые = {round(P, 3)}')"
   ]
  },
  {
   "cell_type": "markdown",
   "id": "9bc1a940-2bf0-493c-a4bc-e1419fe1c5f7",
   "metadata": {},
   "source": [
    "3. На соревновании по биатлону один из трех спортсменов стреляет и попадает в мишень. Вероятность попадания для первого спортсмена равна 0.9, для второго — 0.8, для третьего — 0.6. Найти вероятность того, что выстрел произведен: a). первым спортсменом б). вторым спортсменом в). третьим спортсменом."
   ]
  },
  {
   "cell_type": "code",
   "execution_count": 23,
   "id": "1cfeccaa-6490-449f-94ed-f5f9a12bdc19",
   "metadata": {},
   "outputs": [
    {
     "data": {
      "text/plain": [
       "0.7666666666666666"
      ]
     },
     "execution_count": 23,
     "metadata": {},
     "output_type": "execute_result"
    }
   ],
   "source": [
    "P_A = (1/3 * 0.9) + (1/3 * 0.8) + (1/3 * 0.6)\n",
    "P_A"
   ]
  },
  {
   "cell_type": "markdown",
   "id": "f26b9dc5-fb31-4639-a1f4-aa1b02965533",
   "metadata": {},
   "source": [
    "Найти вероятность того, что выстрел произведен: a). первым спортсменом"
   ]
  },
  {
   "cell_type": "code",
   "execution_count": 26,
   "id": "ad7e2419-a95b-47c5-ab21-3edc01dcc57b",
   "metadata": {},
   "outputs": [
    {
     "data": {
      "text/plain": [
       "0.391304347826087"
      ]
     },
     "execution_count": 26,
     "metadata": {},
     "output_type": "execute_result"
    }
   ],
   "source": [
    "P_B1_A = (1/3 * 0.9) / P_A\n",
    "P_B1_A"
   ]
  },
  {
   "cell_type": "markdown",
   "id": "b5e83d9f-6fd4-49fb-8845-10666e56e6e2",
   "metadata": {},
   "source": [
    "Найти вероятность того, что выстрел произведен: б). вторым спортсменом"
   ]
  },
  {
   "cell_type": "code",
   "execution_count": 28,
   "id": "1da11dae-a4a7-4535-b00f-000ce6a2eaa8",
   "metadata": {},
   "outputs": [
    {
     "data": {
      "text/plain": [
       "0.3478260869565218"
      ]
     },
     "execution_count": 28,
     "metadata": {},
     "output_type": "execute_result"
    }
   ],
   "source": [
    "P_B2_A = (1/3 * 0.8) / P_A\n",
    "P_B2_A"
   ]
  },
  {
   "cell_type": "markdown",
   "id": "868401af-88a2-47f4-9b94-ea6cb930e76c",
   "metadata": {},
   "source": [
    "Найти вероятность того, что выстрел произведен: в). третьим спортсменом."
   ]
  },
  {
   "cell_type": "code",
   "execution_count": 30,
   "id": "0281098e-b6cd-43d1-90da-3908893d1c3a",
   "metadata": {},
   "outputs": [
    {
     "data": {
      "text/plain": [
       "0.2608695652173913"
      ]
     },
     "execution_count": 30,
     "metadata": {},
     "output_type": "execute_result"
    }
   ],
   "source": [
    "P_B3_A = (1/3 * 0.6) / P_A\n",
    "P_B3_A"
   ]
  },
  {
   "cell_type": "markdown",
   "id": "17c7c7f5-6905-40f1-84a3-d57e851f27af",
   "metadata": {},
   "source": [
    "4. В университет на факультеты A и B поступило равное количество студентов, а на факультет C студентов поступило столько же, сколько на A и B вместе. Вероятность того, что студент факультета A сдаст первую сессию, равна 0.8. Для студента факультета B эта вероятность равна 0.7, а для студента факультета C - 0.9. Студент сдал первую сессию. Какова вероятность, что он учится: a). на факультете A б). на факультете B в). на факультете C?"
   ]
  },
  {
   "cell_type": "code",
   "execution_count": 32,
   "id": "a083a797-302c-4cf7-a281-d89603f8deba",
   "metadata": {},
   "outputs": [
    {
     "data": {
      "text/plain": [
       "0.825"
      ]
     },
     "execution_count": 32,
     "metadata": {},
     "output_type": "execute_result"
    }
   ],
   "source": [
    "P_A = (1/4 * 0.8) + (1/4 * 0.7) + (1/2 * 0.9)\n",
    "P_A"
   ]
  },
  {
   "cell_type": "markdown",
   "id": "f46bf2d4-9fcc-4e67-a9a7-47f59f26f2aa",
   "metadata": {},
   "source": [
    "Какова вероятность, что он учится: a). на факультете A"
   ]
  },
  {
   "cell_type": "code",
   "execution_count": 35,
   "id": "6e44165b-8d90-48fd-a570-47ac77e2c010",
   "metadata": {},
   "outputs": [
    {
     "data": {
      "text/plain": [
       "0.24242424242424246"
      ]
     },
     "execution_count": 35,
     "metadata": {},
     "output_type": "execute_result"
    }
   ],
   "source": [
    "P_B1_A = (1/4 * 0.8) / P_A\n",
    "P_B1_A"
   ]
  },
  {
   "cell_type": "raw",
   "id": "bb0ff38c-c314-4dc2-a512-61e794347d50",
   "metadata": {},
   "source": [
    "Какова вероятность, что он учится: б). на факультете B"
   ]
  },
  {
   "cell_type": "code",
   "execution_count": 37,
   "id": "bebe91fe-6d97-4d81-881e-59946043f9f1",
   "metadata": {},
   "outputs": [
    {
     "data": {
      "text/plain": [
       "0.21212121212121213"
      ]
     },
     "execution_count": 37,
     "metadata": {},
     "output_type": "execute_result"
    }
   ],
   "source": [
    "P_B2_A = (1/4 * 0.7) / P_A\n",
    "P_B2_A"
   ]
  },
  {
   "cell_type": "markdown",
   "id": "92e260da-720a-47c3-b29c-7bd9226f4a85",
   "metadata": {},
   "source": [
    "Какова вероятность, что он учится: в). на факультете C"
   ]
  },
  {
   "cell_type": "code",
   "execution_count": 40,
   "id": "d54a1fa5-4481-4ed8-a3a0-49c46bc304ee",
   "metadata": {},
   "outputs": [
    {
     "data": {
      "text/plain": [
       "0.5454545454545455"
      ]
     },
     "execution_count": 40,
     "metadata": {},
     "output_type": "execute_result"
    }
   ],
   "source": [
    "P_B3_A = (1/2 * 0.9) / P_A\n",
    "P_B3_A"
   ]
  },
  {
   "cell_type": "markdown",
   "id": "7cf2bd58-b7ff-470c-bc95-136fcb5bbb42",
   "metadata": {},
   "source": [
    "5. Устройство состоит из трех деталей. Для первой детали вероятность выйти из строя в первый месяц равна 0.1, для второй - 0.2, для третьей - 0.25. Какова вероятность того, что в первый месяц выйдут из строя: а). все детали б). только две детали в). хотя бы одна деталь г). от одной до двух деталей?"
   ]
  },
  {
   "cell_type": "markdown",
   "id": "4bf35e89-17ea-4797-9d27-1313f671536f",
   "metadata": {},
   "source": [
    "Какова вероятность того, что в первый месяц выйдут из строя: а). все детали"
   ]
  },
  {
   "cell_type": "code",
   "execution_count": 44,
   "id": "ed22e9f9-2787-4515-8cba-04428c805edb",
   "metadata": {},
   "outputs": [
    {
     "data": {
      "text/plain": [
       "0.005000000000000001"
      ]
     },
     "execution_count": 44,
     "metadata": {},
     "output_type": "execute_result"
    }
   ],
   "source": [
    "P1 = 0.1 * 0.2 * 0.25\n",
    "P1"
   ]
  },
  {
   "cell_type": "markdown",
   "id": "28b59787-e4ac-4a2b-944b-372082136b42",
   "metadata": {},
   "source": [
    "Какова вероятность того, что в первый месяц выйдут из строя: б). только две детали"
   ]
  },
  {
   "cell_type": "markdown",
   "id": "36d51c06-8f36-434c-a32d-ee99e503c981",
   "metadata": {},
   "source": [
    "Имеет место быть 3 варианта:\n",
    "1. сломается - сломается - целая\n",
    "2. сломается - целая - сломается\n",
    "1. целая - сломается - сломается"
   ]
  },
  {
   "cell_type": "code",
   "execution_count": 45,
   "id": "6819c34c-d0eb-48eb-bc23-a46a03f267b9",
   "metadata": {},
   "outputs": [
    {
     "data": {
      "text/plain": [
       "0.08000000000000002"
      ]
     },
     "execution_count": 45,
     "metadata": {},
     "output_type": "execute_result"
    }
   ],
   "source": [
    "P2 = (0.1 * 0.2 * (1 - 0.25)) + (0.1 * (1 - 0.2) * 0.25) + ((1 - 0.1) * 0.2 * 0.25)\n",
    "P2"
   ]
  },
  {
   "cell_type": "markdown",
   "id": "aad02e1d-393a-47a7-b496-35267f3df822",
   "metadata": {},
   "source": [
    "Какова вероятность того, что в первый месяц выйдут из строя: в). хотя бы одна деталь"
   ]
  },
  {
   "cell_type": "code",
   "execution_count": 50,
   "id": "44e9c93a-18bb-4557-bfe6-efc7461892eb",
   "metadata": {},
   "outputs": [
    {
     "data": {
      "text/plain": [
       "0.45999999999999996"
      ]
     },
     "execution_count": 50,
     "metadata": {},
     "output_type": "execute_result"
    }
   ],
   "source": [
    "P3 = 1 - (1 - 0.1) * (1 - 0.2) * (1 - 0.25)\n",
    "P3"
   ]
  },
  {
   "cell_type": "markdown",
   "id": "4e02c720-1d3e-41a4-936a-cac15945df49",
   "metadata": {},
   "source": [
    "Какова вероятность того, что в первый месяц выйдут из строя: г). от одной до двух деталей"
   ]
  },
  {
   "cell_type": "markdown",
   "id": "5c3a53fe-a0fd-4f3e-9012-d72c7864f85a",
   "metadata": {},
   "source": [
    "Сломается точно одна имеет место быть 3 варианта:\n",
    "\n",
    "    сломается - целая - целая\n",
    "    целая - сломается - целая\n",
    "    целая - целая - сломается"
   ]
  },
  {
   "cell_type": "code",
   "execution_count": 53,
   "id": "6da81978-8fbb-4e93-9cdb-304360a8eb0f",
   "metadata": {},
   "outputs": [
    {
     "data": {
      "text/plain": [
       "0.375"
      ]
     },
     "execution_count": 53,
     "metadata": {},
     "output_type": "execute_result"
    }
   ],
   "source": [
    "P4 = (0.1 * 0.8 * 0.75) + (0.9 * 0.2 * 0.75) + (0.9 * 0.8 * 0.25)\n",
    "P4"
   ]
  },
  {
   "cell_type": "code",
   "execution_count": 54,
   "id": "3a4c2cef-3fad-4a74-8641-8bc9a4e61b1e",
   "metadata": {},
   "outputs": [
    {
     "data": {
      "text/plain": [
       "0.455"
      ]
     },
     "execution_count": 54,
     "metadata": {},
     "output_type": "execute_result"
    }
   ],
   "source": [
    "P = P4 + P2\n",
    "P"
   ]
  },
  {
   "cell_type": "code",
   "execution_count": null,
   "id": "4e93ad27-320b-43f6-8baf-1f886e1e8341",
   "metadata": {},
   "outputs": [],
   "source": []
  }
 ],
 "metadata": {
  "kernelspec": {
   "display_name": "Python 3 (ipykernel)",
   "language": "python",
   "name": "python3"
  },
  "language_info": {
   "codemirror_mode": {
    "name": "ipython",
    "version": 3
   },
   "file_extension": ".py",
   "mimetype": "text/x-python",
   "name": "python",
   "nbconvert_exporter": "python",
   "pygments_lexer": "ipython3",
   "version": "3.9.12"
  }
 },
 "nbformat": 4,
 "nbformat_minor": 5
}
