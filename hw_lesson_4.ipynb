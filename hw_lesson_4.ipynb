{
 "cells": [
  {
   "cell_type": "code",
   "execution_count": 1,
   "id": "e5968645-dc6f-4898-9019-2240d59ea219",
   "metadata": {},
   "outputs": [],
   "source": [
    "from math import sqrt"
   ]
  },
  {
   "cell_type": "markdown",
   "id": "4aec93b5-d054-463a-9066-fcea9cac6aee",
   "metadata": {},
   "source": [
    "### Урок 4. Домашняя работа"
   ]
  },
  {
   "cell_type": "markdown",
   "id": "399de44e-516b-4625-b041-1baba25c0dc7",
   "metadata": {},
   "source": [
    "1. Случайная непрерывная величина A имеет равномерное распределение на промежутке (200, 800].\n",
    "Найдите ее среднее значение и дисперсию."
   ]
  },
  {
   "cell_type": "code",
   "execution_count": 2,
   "id": "ea96bfb5-89b8-4054-b399-4af8910ebfa3",
   "metadata": {},
   "outputs": [],
   "source": [
    "a = 200\n",
    "b = 800"
   ]
  },
  {
   "cell_type": "code",
   "execution_count": 3,
   "id": "7055bc79-ded0-49f7-8685-2fc9657b8e3f",
   "metadata": {},
   "outputs": [
    {
     "data": {
      "text/plain": [
       "500.0"
      ]
     },
     "execution_count": 3,
     "metadata": {},
     "output_type": "execute_result"
    }
   ],
   "source": [
    "m_x = (a + b) / 2\n",
    "m_x"
   ]
  },
  {
   "cell_type": "code",
   "execution_count": 4,
   "id": "1f59d655-943a-42b3-b506-58f125137a52",
   "metadata": {},
   "outputs": [
    {
     "data": {
      "text/plain": [
       "30000.0"
      ]
     },
     "execution_count": 4,
     "metadata": {},
     "output_type": "execute_result"
    }
   ],
   "source": [
    "d = (a - b)**2 / 12\n",
    "d"
   ]
  },
  {
   "cell_type": "code",
   "execution_count": 5,
   "id": "dd6258ca-94e3-4be1-9bac-1d59be26317d",
   "metadata": {},
   "outputs": [
    {
     "name": "stdout",
     "output_type": "stream",
     "text": [
      "Среднее значение 500.0, дисперсия 30000.0\n"
     ]
    }
   ],
   "source": [
    "print(f'Среднее значение {m_x}, дисперсия {d}')"
   ]
  },
  {
   "cell_type": "markdown",
   "id": "bee4d0b6-e828-4968-a6a0-2a571af78271",
   "metadata": {},
   "source": [
    "2. О случайной непрерывной равномерно распределенной величине B известно, что ее дисперсия равна 0.2.\n",
    "Можно ли найти правую границу величины B и ее среднее значение зная, что левая граница равна 0.5?\n",
    "Если да, найдите ее."
   ]
  },
  {
   "cell_type": "markdown",
   "id": "d9ffe44a-dbd4-4795-82e1-e411ebe101f5",
   "metadata": {},
   "source": [
    "$$D = \\frac{(a - b)^2}{12}$$"
   ]
  },
  {
   "cell_type": "code",
   "execution_count": 6,
   "id": "8c00c44d-1fe8-4f01-9bce-2ccbd116b4d6",
   "metadata": {},
   "outputs": [],
   "source": [
    "D = 0.2\n",
    "b = 0.5"
   ]
  },
  {
   "cell_type": "markdown",
   "id": "0b0169a8-e3ef-4fa6-83e5-5a7ed6b4aa20",
   "metadata": {},
   "source": [
    "Выразим из дисперсии a: $$a = \\sqrt{12D} + b$$"
   ]
  },
  {
   "cell_type": "code",
   "execution_count": 7,
   "id": "6594c3ae-3f74-4cbb-99cd-d1fb3243c070",
   "metadata": {},
   "outputs": [
    {
     "data": {
      "text/plain": [
       "2.049193338482967"
      ]
     },
     "execution_count": 7,
     "metadata": {},
     "output_type": "execute_result"
    }
   ],
   "source": [
    "a = sqrt(12 * D) + b\n",
    "a"
   ]
  },
  {
   "cell_type": "code",
   "execution_count": 8,
   "id": "9a97af87-ca7d-4879-b8f4-de977f173576",
   "metadata": {},
   "outputs": [
    {
     "data": {
      "text/plain": [
       "1.2745966692414834"
      ]
     },
     "execution_count": 8,
     "metadata": {},
     "output_type": "execute_result"
    }
   ],
   "source": [
    "m_x = (a + b) / 2\n",
    "m_x"
   ]
  },
  {
   "cell_type": "markdown",
   "id": "b0c1bbc0-d2ec-4981-8e3a-b76f156aeb69",
   "metadata": {},
   "source": [
    "3. Непрерывная случайная величина X распределена нормально и задана плотностью распределения\n",
    "f(x) = (1 / (4 * sqrt(2*pi))) * (exp(-(x+2)**2) / 32).\n",
    "Найдите:\n",
    "а). M(X)\n",
    "б). D(X)\n",
    "в). std(X) (среднее квадратичное отклонение)"
   ]
  },
  {
   "cell_type": "markdown",
   "id": "80769190-d403-451c-a91b-0e6f7b92ee9b",
   "metadata": {},
   "source": [
    "$$f(x) = \\frac{1}{4 * \\sqrt{2pi}} * exp^\\frac{-(x+2)^2}{32}$$"
   ]
  },
  {
   "cell_type": "markdown",
   "id": "fb290d70-54e9-4fd7-8713-a3ed4ebf78a7",
   "metadata": {},
   "source": [
    "из данной плотности распределения следует, что:"
   ]
  },
  {
   "cell_type": "markdown",
   "id": "5f417f49-d734-4596-8d45-ae52e8bbeaec",
   "metadata": {},
   "source": [
    "Найдите: а). M(X)\n",
    "$$M(X) = a = -2$$"
   ]
  },
  {
   "cell_type": "markdown",
   "id": "9c51ea59-311d-47d4-bc5e-a6c5b270ac2d",
   "metadata": {},
   "source": [
    "Найдите: б). D(X)\n",
    "$$D(x) = \\sigma^2 = 16$$"
   ]
  },
  {
   "cell_type": "markdown",
   "id": "e8a8d222-5ca3-420a-b380-26d832c174ff",
   "metadata": {},
   "source": [
    "Найдите: в). std(X) (среднее квадратичное отклонение)\n",
    "$$\\sigma = 4$$"
   ]
  },
  {
   "cell_type": "markdown",
   "id": "a2820957-b732-4ea4-8677-f4bb063a73e2",
   "metadata": {},
   "source": [
    "4. Рост взрослого населения города X имеет нормальное распределение.\n",
    "Причем, средний рост равен 174 см, а среднее квадратичное отклонение равно 8 см.\n",
    "Какова вероятность того, что случайным образом выбранный взрослый человек имеет рост:\n",
    "* а). больше 182 см\n",
    "*б). больше 190 см\n",
    "*в). от 166 см до 190 см\n",
    "*г). от 166 см до 182 см\n",
    "*д). от 158 см до 190 см\n",
    "*е). не выше 150 см или не ниже 190 см\n",
    "*ё). не выше 150 см или не ниже 198 см\n",
    "*ж). ниже 166 см."
   ]
  },
  {
   "cell_type": "code",
   "execution_count": 9,
   "id": "d8b1344c-1624-4a63-b199-6fc83c7ca50f",
   "metadata": {},
   "outputs": [
    {
     "data": {
      "text/plain": [
       "Text(0, 0.5, 'Плотность')"
      ]
     },
     "execution_count": 9,
     "metadata": {},
     "output_type": "execute_result"
    },
    {
     "data": {
      "image/png": "[encoded data removed]",
      "text/plain": [
       "<Figure size 432x288 with 1 Axes>"
      ]
     },
     "metadata": {
      "needs_background": "light"
     },
     "output_type": "display_data"
    }
   ],
   "source": [
    "import numpy as np\n",
    "import matplotlib.pyplot as plt\n",
    "\n",
    "# Создадим диапазон значений роста\n",
    "x = np.linspace(135, 210, 200)\n",
    "\n",
    "# Функция нормального распределения непрерывной случайной величины.\n",
    "def normal_dist(x , mean , sd):\n",
    "    prob_density = (np.pi*sd) * np.exp(-0.5*((x-mean)/sd)**2)\n",
    "    return prob_density\n",
    "\n",
    "mean = 174\n",
    "sd = 8\n",
    "\n",
    "func = normal_dist(x, mean, sd)\n",
    "\n",
    "plt.plot(x, func, color = 'green')\n",
    "plt.xlabel('Рост')\n",
    "plt.ylabel('Плотность')\n"
   ]
  },
  {
   "cell_type": "markdown",
   "id": "5452009c-955f-4fd1-9201-4824b9fa2cc7",
   "metadata": {},
   "source": [
    "* а). больше 182 см"
   ]
  },
  {
   "cell_type": "code",
   "execution_count": 10,
   "id": "4a1ebfa1-e5dc-4bb1-898b-5c24d532fdea",
   "metadata": {},
   "outputs": [
    {
     "data": {
      "text/plain": [
       "-1.0"
      ]
     },
     "execution_count": 10,
     "metadata": {},
     "output_type": "execute_result"
    }
   ],
   "source": [
    "z = (174 - 182) / 8\n",
    "z"
   ]
  },
  {
   "cell_type": "code",
   "execution_count": 11,
   "id": "96af667d-2c0d-4982-a4ee-f45ee164675a",
   "metadata": {},
   "outputs": [],
   "source": [
    "# Найдём значени z по таблице накопленного нормального распределения\n",
    "P = 0.1587"
   ]
  },
  {
   "cell_type": "markdown",
   "id": "2e32198a-b495-49a2-973c-0a8a0562ee36",
   "metadata": {},
   "source": [
    "*б). больше 190 см"
   ]
  },
  {
   "cell_type": "code",
   "execution_count": 12,
   "id": "39d10340-4845-4892-a089-11aa3fbcca38",
   "metadata": {},
   "outputs": [
    {
     "data": {
      "text/plain": [
       "-2.0"
      ]
     },
     "execution_count": 12,
     "metadata": {},
     "output_type": "execute_result"
    }
   ],
   "source": [
    "z = (174 - 190) / 8\n",
    "z"
   ]
  },
  {
   "cell_type": "code",
   "execution_count": 13,
   "id": "f735b204-f409-457d-992c-a9ad34e9a000",
   "metadata": {},
   "outputs": [],
   "source": [
    "P = 0.0228"
   ]
  },
  {
   "cell_type": "markdown",
   "id": "d5dc76f7-790d-41d3-befe-601793db1442",
   "metadata": {},
   "source": [
    "в). от 166 см до 190 см"
   ]
  },
  {
   "cell_type": "code",
   "execution_count": 14,
   "id": "838c1418-cb9a-407c-8610-a646bc32d1ae",
   "metadata": {},
   "outputs": [
    {
     "data": {
      "text/plain": [
       "-1.0"
      ]
     },
     "execution_count": 14,
     "metadata": {},
     "output_type": "execute_result"
    }
   ],
   "source": [
    "z = (166 - 174) / 8\n",
    "z"
   ]
  },
  {
   "cell_type": "code",
   "execution_count": 15,
   "id": "9b7a4168-1241-4259-9c52-ac10749838e9",
   "metadata": {},
   "outputs": [],
   "source": [
    "P1 = 0.1587"
   ]
  },
  {
   "cell_type": "code",
   "execution_count": 16,
   "id": "b5db2730-74bb-47f8-9d31-5d7f84732b6b",
   "metadata": {},
   "outputs": [
    {
     "data": {
      "text/plain": [
       "2.0"
      ]
     },
     "execution_count": 16,
     "metadata": {},
     "output_type": "execute_result"
    }
   ],
   "source": [
    "z = (190 - 174) / 8\n",
    "z"
   ]
  },
  {
   "cell_type": "code",
   "execution_count": 17,
   "id": "e4fc0473-20c0-419a-bf98-274f2bc1b17d",
   "metadata": {},
   "outputs": [],
   "source": [
    "P2 = 0.9772"
   ]
  },
  {
   "cell_type": "code",
   "execution_count": 18,
   "id": "3764a5c7-43ab-469d-9269-093e14a0c3c0",
   "metadata": {},
   "outputs": [
    {
     "data": {
      "text/plain": [
       "0.8185"
      ]
     },
     "execution_count": 18,
     "metadata": {},
     "output_type": "execute_result"
    }
   ],
   "source": [
    "P = P2 - P1\n",
    "P"
   ]
  },
  {
   "cell_type": "markdown",
   "id": "1d3c785b-e744-4033-81dc-71668c4a09f3",
   "metadata": {},
   "source": [
    "*г). от 166 см до 182 см"
   ]
  },
  {
   "cell_type": "code",
   "execution_count": 19,
   "id": "b0f58b0f-7181-45cf-af14-d398fb97846d",
   "metadata": {},
   "outputs": [
    {
     "data": {
      "text/plain": [
       "-1.0"
      ]
     },
     "execution_count": 19,
     "metadata": {},
     "output_type": "execute_result"
    }
   ],
   "source": [
    "z = (166 - 174) / 8\n",
    "z"
   ]
  },
  {
   "cell_type": "code",
   "execution_count": 20,
   "id": "35b362a7-e369-43db-b588-66e7ad878a9c",
   "metadata": {},
   "outputs": [],
   "source": [
    "P1 = 0.1587"
   ]
  },
  {
   "cell_type": "code",
   "execution_count": 21,
   "id": "9ae19cb9-c36d-4610-897b-e585978b6cc5",
   "metadata": {},
   "outputs": [
    {
     "data": {
      "text/plain": [
       "1.0"
      ]
     },
     "execution_count": 21,
     "metadata": {},
     "output_type": "execute_result"
    }
   ],
   "source": [
    "z = (182 - 174) / 8\n",
    "z"
   ]
  },
  {
   "cell_type": "code",
   "execution_count": 22,
   "id": "7fa2d645-1bfb-44ca-8d4d-bad074bdd46e",
   "metadata": {},
   "outputs": [],
   "source": [
    "P2 = 0.8413"
   ]
  },
  {
   "cell_type": "code",
   "execution_count": 23,
   "id": "9c2a2457-17a5-4837-b5c0-cdafb5aab776",
   "metadata": {},
   "outputs": [
    {
     "data": {
      "text/plain": [
       "0.6826000000000001"
      ]
     },
     "execution_count": 23,
     "metadata": {},
     "output_type": "execute_result"
    }
   ],
   "source": [
    "P = P2 - P1\n",
    "P"
   ]
  },
  {
   "cell_type": "markdown",
   "id": "42f98f20-2641-4b56-8150-afa95a36865f",
   "metadata": {},
   "source": [
    "*д). от 158 см до 190 см"
   ]
  },
  {
   "cell_type": "code",
   "execution_count": 24,
   "id": "5f52d581-c72f-4aff-ab2e-ee405fe5bf56",
   "metadata": {},
   "outputs": [
    {
     "data": {
      "text/plain": [
       "2.0"
      ]
     },
     "execution_count": 24,
     "metadata": {},
     "output_type": "execute_result"
    }
   ],
   "source": [
    "z = (174 - 158) / 8\n",
    "z"
   ]
  },
  {
   "cell_type": "code",
   "execution_count": 25,
   "id": "249ae426-ffca-4508-af1b-836a42afc4c2",
   "metadata": {},
   "outputs": [],
   "source": [
    "P1 = 0.0228"
   ]
  },
  {
   "cell_type": "code",
   "execution_count": 26,
   "id": "f4d0a409-5d13-4acb-8059-e28fb3c896bc",
   "metadata": {},
   "outputs": [
    {
     "data": {
      "text/plain": [
       "2.0"
      ]
     },
     "execution_count": 26,
     "metadata": {},
     "output_type": "execute_result"
    }
   ],
   "source": [
    "z = (190 - 174) / 8\n",
    "z"
   ]
  },
  {
   "cell_type": "code",
   "execution_count": 27,
   "id": "743ac9b9-e10f-4e82-926d-d02e3dba6946",
   "metadata": {},
   "outputs": [],
   "source": [
    "P2 = 0.9772"
   ]
  },
  {
   "cell_type": "code",
   "execution_count": 28,
   "id": "ba22c846-7669-474c-9af2-36c06e42e7cf",
   "metadata": {},
   "outputs": [
    {
     "data": {
      "text/plain": [
       "0.9543999999999999"
      ]
     },
     "execution_count": 28,
     "metadata": {},
     "output_type": "execute_result"
    }
   ],
   "source": [
    "P = P2 - P1\n",
    "P"
   ]
  },
  {
   "cell_type": "markdown",
   "id": "bef7ffe2-2067-4e1c-854d-2d907f6661d0",
   "metadata": {},
   "source": [
    "*е). не выше 150 см или не ниже 190 см"
   ]
  },
  {
   "cell_type": "code",
   "execution_count": 29,
   "id": "234251db-0f6e-4088-80dd-783315eb207e",
   "metadata": {},
   "outputs": [
    {
     "data": {
      "text/plain": [
       "3.0"
      ]
     },
     "execution_count": 29,
     "metadata": {},
     "output_type": "execute_result"
    }
   ],
   "source": [
    "z = (174 - 150) / 8\n",
    "z"
   ]
  },
  {
   "cell_type": "code",
   "execution_count": 30,
   "id": "c38ea17a-ef37-4371-865a-2131f3946105",
   "metadata": {},
   "outputs": [
    {
     "data": {
      "text/plain": [
       "0.0013999999999999568"
      ]
     },
     "execution_count": 30,
     "metadata": {},
     "output_type": "execute_result"
    }
   ],
   "source": [
    "P1 = 1 - 0.9986\n",
    "P1"
   ]
  },
  {
   "cell_type": "code",
   "execution_count": 31,
   "id": "0d4ab973-30fb-4e8d-8951-5c456f3f2c0c",
   "metadata": {},
   "outputs": [
    {
     "data": {
      "text/plain": [
       "2.0"
      ]
     },
     "execution_count": 31,
     "metadata": {},
     "output_type": "execute_result"
    }
   ],
   "source": [
    "z = (190 - 174) / 8\n",
    "z"
   ]
  },
  {
   "cell_type": "code",
   "execution_count": 32,
   "id": "4712c979-3571-4030-ab52-966eb18a891b",
   "metadata": {},
   "outputs": [
    {
     "data": {
      "text/plain": [
       "0.022800000000000042"
      ]
     },
     "execution_count": 32,
     "metadata": {},
     "output_type": "execute_result"
    }
   ],
   "source": [
    "P2 = 1 - 0.9772\n",
    "P2"
   ]
  },
  {
   "cell_type": "code",
   "execution_count": 33,
   "id": "6b124ead-f786-41f9-acb0-d1f190e8f615",
   "metadata": {},
   "outputs": [
    {
     "data": {
      "text/plain": [
       "0.0242"
      ]
     },
     "execution_count": 33,
     "metadata": {},
     "output_type": "execute_result"
    }
   ],
   "source": [
    "P = P1 + P2\n",
    "P"
   ]
  },
  {
   "cell_type": "markdown",
   "id": "016da5d6-84eb-4bf6-8551-a8688083854f",
   "metadata": {},
   "source": [
    "*ё). не выше 150 см или не ниже 198 см"
   ]
  },
  {
   "cell_type": "code",
   "execution_count": 34,
   "id": "7e162cbe-33b6-4ecf-8f11-a42eb4ee82fb",
   "metadata": {},
   "outputs": [
    {
     "data": {
      "text/plain": [
       "3.0"
      ]
     },
     "execution_count": 34,
     "metadata": {},
     "output_type": "execute_result"
    }
   ],
   "source": [
    "z = (174 - 150) / 8\n",
    "z"
   ]
  },
  {
   "cell_type": "code",
   "execution_count": 35,
   "id": "5a1c7c1c-e610-490b-8982-bba1b846add6",
   "metadata": {},
   "outputs": [
    {
     "data": {
      "text/plain": [
       "0.0013999999999999568"
      ]
     },
     "execution_count": 35,
     "metadata": {},
     "output_type": "execute_result"
    }
   ],
   "source": [
    "P1 = 1 - 0.9986\n",
    "P1"
   ]
  },
  {
   "cell_type": "code",
   "execution_count": 36,
   "id": "2ad0ba1d-14b1-4dd6-9621-e8e3e64f5f91",
   "metadata": {},
   "outputs": [
    {
     "data": {
      "text/plain": [
       "3.0"
      ]
     },
     "execution_count": 36,
     "metadata": {},
     "output_type": "execute_result"
    }
   ],
   "source": [
    "z = (198 - 174) / 8\n",
    "z"
   ]
  },
  {
   "cell_type": "code",
   "execution_count": 37,
   "id": "16797ee0-55b0-4385-bd36-5f69ddda62cc",
   "metadata": {},
   "outputs": [
    {
     "data": {
      "text/plain": [
       "0.0013999999999999568"
      ]
     },
     "execution_count": 37,
     "metadata": {},
     "output_type": "execute_result"
    }
   ],
   "source": [
    "P2 = 1 - 0.9986\n",
    "P2"
   ]
  },
  {
   "cell_type": "code",
   "execution_count": 38,
   "id": "cc5ca653-be3a-4a85-a5f0-ae7b54aef31d",
   "metadata": {},
   "outputs": [
    {
     "data": {
      "text/plain": [
       "0.0027999999999999137"
      ]
     },
     "execution_count": 38,
     "metadata": {},
     "output_type": "execute_result"
    }
   ],
   "source": [
    "P = P1 + P2\n",
    "P"
   ]
  },
  {
   "cell_type": "markdown",
   "id": "7271cc45-3fdd-4d26-a193-cf3e6ae87ab0",
   "metadata": {},
   "source": [
    "*ж). ниже 166 см."
   ]
  },
  {
   "cell_type": "code",
   "execution_count": 39,
   "id": "cde7857a-4212-499f-9ddd-fd2e45371123",
   "metadata": {},
   "outputs": [
    {
     "data": {
      "text/plain": [
       "1.0"
      ]
     },
     "execution_count": 39,
     "metadata": {},
     "output_type": "execute_result"
    }
   ],
   "source": [
    "z = (174 - 166) / 8\n",
    "z"
   ]
  },
  {
   "cell_type": "code",
   "execution_count": 40,
   "id": "8ff8e42b-af42-4c3d-9d53-8e1515daeb13",
   "metadata": {},
   "outputs": [
    {
     "data": {
      "text/plain": [
       "0.15869999999999995"
      ]
     },
     "execution_count": 40,
     "metadata": {},
     "output_type": "execute_result"
    }
   ],
   "source": [
    "P = 1 - 0.8413\n",
    "P"
   ]
  },
  {
   "cell_type": "markdown",
   "id": "b21f147b-0c82-4f79-97fb-56280e26eebf",
   "metadata": {},
   "source": [
    "5. На сколько сигм (средних квадратичных отклонений) отклоняется рост человека, равный 190 см, от\n",
    "математического ожидания роста в популяции, в которой M(X) = 178 см и D(X) = 25 кв.см?"
   ]
  },
  {
   "cell_type": "code",
   "execution_count": 41,
   "id": "5c8852f4-727c-4e99-8adf-b432ba49d140",
   "metadata": {},
   "outputs": [
    {
     "name": "stdout",
     "output_type": "stream",
     "text": [
      "2.4 раза\n"
     ]
    }
   ],
   "source": [
    "x = 190\n",
    "m_x = 178\n",
    "d_x = 25\n",
    "n = (x - m_x)/sqrt(d_x)\n",
    "print(f'{n} раза')"
   ]
  },
  {
   "cell_type": "code",
   "execution_count": null,
   "id": "963f263e-578f-4358-a514-2416c6122399",
   "metadata": {},
   "outputs": [],
   "source": []
  }
 ],
 "metadata": {
  "kernelspec": {
   "display_name": "Python 3 (ipykernel)",
   "language": "python",
   "name": "python3"
  },
  "language_info": {
   "codemirror_mode": {
    "name": "ipython",
    "version": 3
   },
   "file_extension": ".py",
   "mimetype": "text/x-python",
   "name": "python",
   "nbconvert_exporter": "python",
   "pygments_lexer": "ipython3",
   "version": "3.9.12"
  }
 },
 "nbformat": 4,
 "nbformat_minor": 5
}
